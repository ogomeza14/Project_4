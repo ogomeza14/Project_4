{
 "cells": [
  {
   "cell_type": "code",
   "execution_count": 1,
   "metadata": {},
   "outputs": [],
   "source": [
    "import pandas as pd\n",
    "import numpy as np\n",
    "import matplotlib.pyplot as plt\n",
    "import seaborn as sns\n",
    "from sklearn import linear_model"
   ]
  },
  {
   "cell_type": "code",
   "execution_count": 2,
   "metadata": {},
   "outputs": [
    {
     "data": {
      "text/html": [
       "<div>\n",
       "<style scoped>\n",
       "    .dataframe tbody tr th:only-of-type {\n",
       "        vertical-align: middle;\n",
       "    }\n",
       "\n",
       "    .dataframe tbody tr th {\n",
       "        vertical-align: top;\n",
       "    }\n",
       "\n",
       "    .dataframe thead th {\n",
       "        text-align: right;\n",
       "    }\n",
       "</style>\n",
       "<table border=\"1\" class=\"dataframe\">\n",
       "  <thead>\n",
       "    <tr style=\"text-align: right;\">\n",
       "      <th></th>\n",
       "      <th>id_prod</th>\n",
       "      <th>date</th>\n",
       "      <th>session_id</th>\n",
       "      <th>client_id</th>\n",
       "      <th>sex</th>\n",
       "      <th>birth</th>\n",
       "      <th>age</th>\n",
       "      <th>price</th>\n",
       "      <th>categ</th>\n",
       "      <th>yyyy</th>\n",
       "      <th>mm</th>\n",
       "      <th>dd</th>\n",
       "      <th>hh</th>\n",
       "      <th>day</th>\n",
       "    </tr>\n",
       "  </thead>\n",
       "  <tbody>\n",
       "    <tr>\n",
       "      <th>0</th>\n",
       "      <td>0_1483</td>\n",
       "      <td>2021-04-10 18:37:28.723910</td>\n",
       "      <td>s_18746</td>\n",
       "      <td>c_4450</td>\n",
       "      <td>f</td>\n",
       "      <td>1977</td>\n",
       "      <td>45</td>\n",
       "      <td>4.99</td>\n",
       "      <td>0</td>\n",
       "      <td>2021</td>\n",
       "      <td>4</td>\n",
       "      <td>10</td>\n",
       "      <td>18</td>\n",
       "      <td>5</td>\n",
       "    </tr>\n",
       "    <tr>\n",
       "      <th>1</th>\n",
       "      <td>0_1483</td>\n",
       "      <td>2021-12-27 11:11:12.123067</td>\n",
       "      <td>s_140787</td>\n",
       "      <td>c_5433</td>\n",
       "      <td>f</td>\n",
       "      <td>1981</td>\n",
       "      <td>41</td>\n",
       "      <td>4.99</td>\n",
       "      <td>0</td>\n",
       "      <td>2021</td>\n",
       "      <td>12</td>\n",
       "      <td>27</td>\n",
       "      <td>11</td>\n",
       "      <td>0</td>\n",
       "    </tr>\n",
       "    <tr>\n",
       "      <th>2</th>\n",
       "      <td>0_1483</td>\n",
       "      <td>2021-10-27 04:56:38.293970</td>\n",
       "      <td>s_110736</td>\n",
       "      <td>c_857</td>\n",
       "      <td>m</td>\n",
       "      <td>1985</td>\n",
       "      <td>37</td>\n",
       "      <td>4.99</td>\n",
       "      <td>0</td>\n",
       "      <td>2021</td>\n",
       "      <td>10</td>\n",
       "      <td>27</td>\n",
       "      <td>4</td>\n",
       "      <td>2</td>\n",
       "    </tr>\n",
       "    <tr>\n",
       "      <th>3</th>\n",
       "      <td>0_1483</td>\n",
       "      <td>2021-07-04 06:43:45.676567</td>\n",
       "      <td>s_57626</td>\n",
       "      <td>c_3679</td>\n",
       "      <td>f</td>\n",
       "      <td>1989</td>\n",
       "      <td>33</td>\n",
       "      <td>4.99</td>\n",
       "      <td>0</td>\n",
       "      <td>2021</td>\n",
       "      <td>7</td>\n",
       "      <td>4</td>\n",
       "      <td>6</td>\n",
       "      <td>6</td>\n",
       "    </tr>\n",
       "    <tr>\n",
       "      <th>4</th>\n",
       "      <td>0_1483</td>\n",
       "      <td>2021-11-13 02:04:21.760392</td>\n",
       "      <td>s_118789</td>\n",
       "      <td>c_868</td>\n",
       "      <td>m</td>\n",
       "      <td>1975</td>\n",
       "      <td>47</td>\n",
       "      <td>4.99</td>\n",
       "      <td>0</td>\n",
       "      <td>2021</td>\n",
       "      <td>11</td>\n",
       "      <td>13</td>\n",
       "      <td>2</td>\n",
       "      <td>5</td>\n",
       "    </tr>\n",
       "  </tbody>\n",
       "</table>\n",
       "</div>"
      ],
      "text/plain": [
       "  id_prod                        date session_id client_id sex  birth  age  \\\n",
       "0  0_1483  2021-04-10 18:37:28.723910    s_18746    c_4450   f   1977   45   \n",
       "1  0_1483  2021-12-27 11:11:12.123067   s_140787    c_5433   f   1981   41   \n",
       "2  0_1483  2021-10-27 04:56:38.293970   s_110736     c_857   m   1985   37   \n",
       "3  0_1483  2021-07-04 06:43:45.676567    s_57626    c_3679   f   1989   33   \n",
       "4  0_1483  2021-11-13 02:04:21.760392   s_118789     c_868   m   1975   47   \n",
       "\n",
       "   price  categ  yyyy  mm  dd  hh  day  \n",
       "0   4.99      0  2021   4  10  18    5  \n",
       "1   4.99      0  2021  12  27  11    0  \n",
       "2   4.99      0  2021  10  27   4    2  \n",
       "3   4.99      0  2021   7   4   6    6  \n",
       "4   4.99      0  2021  11  13   2    5  "
      ]
     },
     "execution_count": 2,
     "metadata": {},
     "output_type": "execute_result"
    }
   ],
   "source": [
    "address_data = 'C:/Users/Oscar Gomez/data_ventes.csv'\n",
    "data = pd.read_csv(address_data)\n",
    "data.head()"
   ]
  },
  {
   "cell_type": "code",
   "execution_count": 3,
   "metadata": {},
   "outputs": [
    {
     "data": {
      "text/html": [
       "<div>\n",
       "<style scoped>\n",
       "    .dataframe tbody tr th:only-of-type {\n",
       "        vertical-align: middle;\n",
       "    }\n",
       "\n",
       "    .dataframe tbody tr th {\n",
       "        vertical-align: top;\n",
       "    }\n",
       "\n",
       "    .dataframe thead th {\n",
       "        text-align: right;\n",
       "    }\n",
       "</style>\n",
       "<table border=\"1\" class=\"dataframe\">\n",
       "  <thead>\n",
       "    <tr style=\"text-align: right;\">\n",
       "      <th></th>\n",
       "      <th>client_id</th>\n",
       "      <th>age</th>\n",
       "      <th>sex</th>\n",
       "      <th>total_items</th>\n",
       "      <th>trans_total</th>\n",
       "      <th>sess_total</th>\n",
       "    </tr>\n",
       "  </thead>\n",
       "  <tbody>\n",
       "    <tr>\n",
       "      <th>0</th>\n",
       "      <td>c_1</td>\n",
       "      <td>67</td>\n",
       "      <td>m</td>\n",
       "      <td>20</td>\n",
       "      <td>300.65</td>\n",
       "      <td>15</td>\n",
       "    </tr>\n",
       "    <tr>\n",
       "      <th>1</th>\n",
       "      <td>c_10</td>\n",
       "      <td>66</td>\n",
       "      <td>m</td>\n",
       "      <td>28</td>\n",
       "      <td>586.18</td>\n",
       "      <td>16</td>\n",
       "    </tr>\n",
       "    <tr>\n",
       "      <th>2</th>\n",
       "      <td>c_100</td>\n",
       "      <td>30</td>\n",
       "      <td>m</td>\n",
       "      <td>6</td>\n",
       "      <td>222.87</td>\n",
       "      <td>3</td>\n",
       "    </tr>\n",
       "    <tr>\n",
       "      <th>3</th>\n",
       "      <td>c_1000</td>\n",
       "      <td>56</td>\n",
       "      <td>f</td>\n",
       "      <td>56</td>\n",
       "      <td>980.02</td>\n",
       "      <td>42</td>\n",
       "    </tr>\n",
       "    <tr>\n",
       "      <th>4</th>\n",
       "      <td>c_1001</td>\n",
       "      <td>40</td>\n",
       "      <td>m</td>\n",
       "      <td>58</td>\n",
       "      <td>1102.45</td>\n",
       "      <td>24</td>\n",
       "    </tr>\n",
       "    <tr>\n",
       "      <th>5</th>\n",
       "      <td>c_1002</td>\n",
       "      <td>40</td>\n",
       "      <td>f</td>\n",
       "      <td>24</td>\n",
       "      <td>298.65</td>\n",
       "      <td>11</td>\n",
       "    </tr>\n",
       "    <tr>\n",
       "      <th>6</th>\n",
       "      <td>c_1003</td>\n",
       "      <td>40</td>\n",
       "      <td>m</td>\n",
       "      <td>49</td>\n",
       "      <td>552.67</td>\n",
       "      <td>21</td>\n",
       "    </tr>\n",
       "    <tr>\n",
       "      <th>7</th>\n",
       "      <td>c_1004</td>\n",
       "      <td>49</td>\n",
       "      <td>m</td>\n",
       "      <td>37</td>\n",
       "      <td>520.23</td>\n",
       "      <td>18</td>\n",
       "    </tr>\n",
       "    <tr>\n",
       "      <th>8</th>\n",
       "      <td>c_1005</td>\n",
       "      <td>81</td>\n",
       "      <td>f</td>\n",
       "      <td>32</td>\n",
       "      <td>476.67</td>\n",
       "      <td>15</td>\n",
       "    </tr>\n",
       "    <tr>\n",
       "      <th>9</th>\n",
       "      <td>c_1006</td>\n",
       "      <td>43</td>\n",
       "      <td>m</td>\n",
       "      <td>143</td>\n",
       "      <td>1925.49</td>\n",
       "      <td>63</td>\n",
       "    </tr>\n",
       "  </tbody>\n",
       "</table>\n",
       "</div>"
      ],
      "text/plain": [
       "  client_id  age sex  total_items  trans_total  sess_total\n",
       "0       c_1   67   m           20       300.65          15\n",
       "1      c_10   66   m           28       586.18          16\n",
       "2     c_100   30   m            6       222.87           3\n",
       "3    c_1000   56   f           56       980.02          42\n",
       "4    c_1001   40   m           58      1102.45          24\n",
       "5    c_1002   40   f           24       298.65          11\n",
       "6    c_1003   40   m           49       552.67          21\n",
       "7    c_1004   49   m           37       520.23          18\n",
       "8    c_1005   81   f           32       476.67          15\n",
       "9    c_1006   43   m          143      1925.49          63"
      ]
     },
     "execution_count": 3,
     "metadata": {},
     "output_type": "execute_result"
    }
   ],
   "source": [
    "#tableau avec les totaux par client\n",
    "trans_total_client1 = pd.pivot_table(data, index=['client_id','age','sex'], values=['price','session_id', 'id_prod'], \n",
    "                                     aggfunc={'price': 'sum', 'session_id': lambda x: len(x.unique()), 'id_prod': 'count' })\n",
    "trans_total_client1 = trans_total_client1.rename_axis(None, axis=1)\n",
    "trans_total_client1.reset_index(inplace=True)\n",
    "trans_total_client1 = trans_total_client1.rename(columns={'price':'trans_total', 'session_id':'sess_total', 'id_prod': 'total_items'})\n",
    "trans_total_client1.head(10)"
   ]
  },
  {
   "cell_type": "code",
   "execution_count": 4,
   "metadata": {},
   "outputs": [
    {
     "data": {
      "text/html": [
       "<div>\n",
       "<style scoped>\n",
       "    .dataframe tbody tr th:only-of-type {\n",
       "        vertical-align: middle;\n",
       "    }\n",
       "\n",
       "    .dataframe tbody tr th {\n",
       "        vertical-align: top;\n",
       "    }\n",
       "\n",
       "    .dataframe thead th {\n",
       "        text-align: right;\n",
       "    }\n",
       "</style>\n",
       "<table border=\"1\" class=\"dataframe\">\n",
       "  <thead>\n",
       "    <tr style=\"text-align: right;\">\n",
       "      <th></th>\n",
       "      <th>age</th>\n",
       "      <th>total_items</th>\n",
       "      <th>trans_total</th>\n",
       "      <th>sess_total</th>\n",
       "    </tr>\n",
       "  </thead>\n",
       "  <tbody>\n",
       "    <tr>\n",
       "      <th>count</th>\n",
       "      <td>8596.000000</td>\n",
       "      <td>8596.000000</td>\n",
       "      <td>8596.000000</td>\n",
       "      <td>8596.000000</td>\n",
       "    </tr>\n",
       "    <tr>\n",
       "      <th>mean</th>\n",
       "      <td>43.739646</td>\n",
       "      <td>36.476501</td>\n",
       "      <td>623.856789</td>\n",
       "      <td>18.356096</td>\n",
       "    </tr>\n",
       "    <tr>\n",
       "      <th>std</th>\n",
       "      <td>16.910542</td>\n",
       "      <td>33.525048</td>\n",
       "      <td>457.027384</td>\n",
       "      <td>15.189603</td>\n",
       "    </tr>\n",
       "    <tr>\n",
       "      <th>min</th>\n",
       "      <td>18.000000</td>\n",
       "      <td>1.000000</td>\n",
       "      <td>4.150000</td>\n",
       "      <td>1.000000</td>\n",
       "    </tr>\n",
       "    <tr>\n",
       "      <th>25%</th>\n",
       "      <td>30.000000</td>\n",
       "      <td>14.000000</td>\n",
       "      <td>275.632500</td>\n",
       "      <td>7.000000</td>\n",
       "    </tr>\n",
       "    <tr>\n",
       "      <th>50%</th>\n",
       "      <td>43.000000</td>\n",
       "      <td>25.000000</td>\n",
       "      <td>501.170000</td>\n",
       "      <td>13.000000</td>\n",
       "    </tr>\n",
       "    <tr>\n",
       "      <th>75%</th>\n",
       "      <td>56.000000</td>\n",
       "      <td>47.000000</td>\n",
       "      <td>869.785000</td>\n",
       "      <td>25.000000</td>\n",
       "    </tr>\n",
       "    <tr>\n",
       "      <th>max</th>\n",
       "      <td>93.000000</td>\n",
       "      <td>195.000000</td>\n",
       "      <td>2564.250000</td>\n",
       "      <td>84.000000</td>\n",
       "    </tr>\n",
       "  </tbody>\n",
       "</table>\n",
       "</div>"
      ],
      "text/plain": [
       "               age  total_items  trans_total   sess_total\n",
       "count  8596.000000  8596.000000  8596.000000  8596.000000\n",
       "mean     43.739646    36.476501   623.856789    18.356096\n",
       "std      16.910542    33.525048   457.027384    15.189603\n",
       "min      18.000000     1.000000     4.150000     1.000000\n",
       "25%      30.000000    14.000000   275.632500     7.000000\n",
       "50%      43.000000    25.000000   501.170000    13.000000\n",
       "75%      56.000000    47.000000   869.785000    25.000000\n",
       "max      93.000000   195.000000  2564.250000    84.000000"
      ]
     },
     "execution_count": 4,
     "metadata": {},
     "output_type": "execute_result"
    }
   ],
   "source": [
    "trans_total_client1.describe()"
   ]
  },
  {
   "cell_type": "code",
   "execution_count": 5,
   "metadata": {},
   "outputs": [
    {
     "data": {
      "image/png": "[encoded data removed]",
      "text/plain": [
       "<Figure size 432x288 with 1 Axes>"
      ]
     },
     "metadata": {},
     "output_type": "display_data"
    }
   ],
   "source": [
    "fig1, ax1 = plt.subplots()\n",
    "ax1.pie(trans_total_client1.groupby(['sex']).count()['client_id'], labels=['F','M'], autopct='%1.1f%%',\n",
    "        shadow=True, startangle=90)\n",
    "ax1.axis('equal')\n",
    "plt.title('Distribution de clients par sex')\n",
    "plt.savefig('Distri2.png')\n",
    "plt.show()"
   ]
  },
  {
   "cell_type": "code",
   "execution_count": 6,
   "metadata": {},
   "outputs": [
    {
     "data": {
      "image/png": "[encoded data removed]",
      "text/plain": [
       "<Figure size 432x288 with 1 Axes>"
      ]
     },
     "metadata": {},
     "output_type": "display_data"
    }
   ],
   "source": [
    "fig2, ax2 = plt.subplots()\n",
    "ax2.pie(trans_total_client1.groupby(['sex']).sum()['trans_total'], labels=['F','M'], autopct='%1.1f%%',\n",
    "        shadow=True, startangle=90)\n",
    "ax2.axis('equal')\n",
    "plt.title('Distribution de achats par sex')\n",
    "plt.savefig('Distri1.png')\n",
    "plt.show()"
   ]
  },
  {
   "cell_type": "code",
   "execution_count": 7,
   "metadata": {},
   "outputs": [
    {
     "data": {
      "image/png": "[encoded data removed]",
      "text/plain": [
       "<Figure size 720x360 with 2 Axes>"
      ]
     },
     "metadata": {
      "needs_background": "light"
     },
     "output_type": "display_data"
    }
   ],
   "source": [
    "#largeur de classe : 3 ans\n",
    "sns.displot(trans_total_client1, x=\"age\", col='sex', multiple=\"dodge\", bins=25, stat='probability', common_norm=False)\n",
    "plt.savefig('Distri_age_1.png');"
   ]
  },
  {
   "cell_type": "code",
   "execution_count": 8,
   "metadata": {},
   "outputs": [
    {
     "data": {
      "image/png": "[encoded data removed]",
      "text/plain": [
       "<Figure size 720x360 with 2 Axes>"
      ]
     },
     "metadata": {
      "needs_background": "light"
     },
     "output_type": "display_data"
    }
   ],
   "source": [
    "#largeur de classe : 1 an\n",
    "sns.displot(trans_total_client1, x=\"age\", col='sex', multiple=\"dodge\", bins=75, stat='probability', common_norm=False)\n",
    "plt.savefig('Distri_age_2.png');"
   ]
  },
  {
   "cell_type": "code",
   "execution_count": 9,
   "metadata": {
    "scrolled": true
   },
   "outputs": [
    {
     "data": {
      "image/png": "[encoded data removed]",
      "text/plain": [
       "<Figure size 720x360 with 2 Axes>"
      ]
     },
     "metadata": {
      "needs_background": "light"
     },
     "output_type": "display_data"
    }
   ],
   "source": [
    "sns.displot(trans_total_client1, x=\"sess_total\", col='sex', multiple=\"dodge\", bins=25)\n",
    "plt.savefig('Distri_sess.png');"
   ]
  },
  {
   "cell_type": "code",
   "execution_count": 67,
   "metadata": {},
   "outputs": [
    {
     "data": {
      "image/png": "[encoded data removed]",
      "text/plain": [
       "<Figure size 432x288 with 1 Axes>"
      ]
     },
     "metadata": {
      "needs_background": "light"
     },
     "output_type": "display_data"
    }
   ],
   "source": [
    "d_client = trans_total_client1['trans_total'].values\n",
    "n = len(d_client)\n",
    "lorenz = np.cumsum(np.sort(d_client)) / d_client.sum()\n",
    "lorenz = np.append([0],lorenz) \n",
    "\n",
    "plt.axes().axis('equal')\n",
    "xaxis = np.linspace(0-1/n,1+1/n,n+1)\n",
    "plt.plot(xaxis,lorenz,drawstyle='steps-post')\n",
    "plt.title('Concentration des achats [Courbe de Lorenz]')\n",
    "plt.xlabel('Franction des clients')\n",
    "plt.ylabel('Franction du total d\\'achats')\n",
    "plt.savefig('lorenz.png')\n",
    "plt.show()"
   ]
  },
  {
   "cell_type": "code",
   "execution_count": 63,
   "metadata": {},
   "outputs": [
    {
     "data": {
      "text/plain": [
       "2600.56"
      ]
     },
     "execution_count": 63,
     "metadata": {},
     "output_type": "execute_result"
    }
   ],
   "source": [
    "lorenz.sum().round(2)"
   ]
  },
  {
   "cell_type": "code",
   "execution_count": 72,
   "metadata": {},
   "outputs": [
    {
     "name": "stdout",
     "output_type": "stream",
     "text": [
      "Le coefficient de Gini pour les achats des clients est 0.3949\n"
     ]
    }
   ],
   "source": [
    "AUC = (lorenz.sum())/n \n",
    "S = 0.5 - AUC \n",
    "gini = 2*S\n",
    "print('Le coefficient de Gini pour les achats des clients est {}'.format(gini.round(4)))"
   ]
  },
  {
   "cell_type": "code",
   "execution_count": 12,
   "metadata": {},
   "outputs": [
    {
     "data": {
      "text/html": [
       "<div>\n",
       "<style scoped>\n",
       "    .dataframe tbody tr th:only-of-type {\n",
       "        vertical-align: middle;\n",
       "    }\n",
       "\n",
       "    .dataframe tbody tr th {\n",
       "        vertical-align: top;\n",
       "    }\n",
       "\n",
       "    .dataframe thead th {\n",
       "        text-align: right;\n",
       "    }\n",
       "</style>\n",
       "<table border=\"1\" class=\"dataframe\">\n",
       "  <thead>\n",
       "    <tr style=\"text-align: right;\">\n",
       "      <th></th>\n",
       "      <th>session_id</th>\n",
       "      <th>client_id</th>\n",
       "      <th>age</th>\n",
       "      <th>sex</th>\n",
       "      <th>yyyy</th>\n",
       "      <th>mm</th>\n",
       "      <th>dd</th>\n",
       "      <th>day</th>\n",
       "      <th>items</th>\n",
       "      <th>trans_total</th>\n",
       "    </tr>\n",
       "  </thead>\n",
       "  <tbody>\n",
       "    <tr>\n",
       "      <th>0</th>\n",
       "      <td>s_1</td>\n",
       "      <td>c_329</td>\n",
       "      <td>55</td>\n",
       "      <td>f</td>\n",
       "      <td>2021</td>\n",
       "      <td>3</td>\n",
       "      <td>1</td>\n",
       "      <td>0</td>\n",
       "      <td>1</td>\n",
       "      <td>11.99</td>\n",
       "    </tr>\n",
       "    <tr>\n",
       "      <th>1</th>\n",
       "      <td>s_10</td>\n",
       "      <td>c_2218</td>\n",
       "      <td>52</td>\n",
       "      <td>f</td>\n",
       "      <td>2021</td>\n",
       "      <td>3</td>\n",
       "      <td>1</td>\n",
       "      <td>0</td>\n",
       "      <td>1</td>\n",
       "      <td>26.99</td>\n",
       "    </tr>\n",
       "    <tr>\n",
       "      <th>2</th>\n",
       "      <td>s_100</td>\n",
       "      <td>c_3854</td>\n",
       "      <td>44</td>\n",
       "      <td>f</td>\n",
       "      <td>2021</td>\n",
       "      <td>3</td>\n",
       "      <td>1</td>\n",
       "      <td>0</td>\n",
       "      <td>2</td>\n",
       "      <td>33.72</td>\n",
       "    </tr>\n",
       "    <tr>\n",
       "      <th>3</th>\n",
       "      <td>s_1000</td>\n",
       "      <td>c_1014</td>\n",
       "      <td>33</td>\n",
       "      <td>m</td>\n",
       "      <td>2021</td>\n",
       "      <td>3</td>\n",
       "      <td>3</td>\n",
       "      <td>2</td>\n",
       "      <td>4</td>\n",
       "      <td>39.22</td>\n",
       "    </tr>\n",
       "    <tr>\n",
       "      <th>4</th>\n",
       "      <td>s_10000</td>\n",
       "      <td>c_476</td>\n",
       "      <td>33</td>\n",
       "      <td>f</td>\n",
       "      <td>2021</td>\n",
       "      <td>3</td>\n",
       "      <td>22</td>\n",
       "      <td>0</td>\n",
       "      <td>3</td>\n",
       "      <td>41.49</td>\n",
       "    </tr>\n",
       "    <tr>\n",
       "      <th>5</th>\n",
       "      <td>s_100000</td>\n",
       "      <td>c_6924</td>\n",
       "      <td>37</td>\n",
       "      <td>f</td>\n",
       "      <td>2021</td>\n",
       "      <td>10</td>\n",
       "      <td>4</td>\n",
       "      <td>0</td>\n",
       "      <td>1</td>\n",
       "      <td>10.00</td>\n",
       "    </tr>\n",
       "    <tr>\n",
       "      <th>6</th>\n",
       "      <td>s_100003</td>\n",
       "      <td>c_8020</td>\n",
       "      <td>49</td>\n",
       "      <td>m</td>\n",
       "      <td>2021</td>\n",
       "      <td>10</td>\n",
       "      <td>4</td>\n",
       "      <td>0</td>\n",
       "      <td>3</td>\n",
       "      <td>51.18</td>\n",
       "    </tr>\n",
       "    <tr>\n",
       "      <th>7</th>\n",
       "      <td>s_100004</td>\n",
       "      <td>c_3034</td>\n",
       "      <td>41</td>\n",
       "      <td>f</td>\n",
       "      <td>2021</td>\n",
       "      <td>10</td>\n",
       "      <td>4</td>\n",
       "      <td>0</td>\n",
       "      <td>1</td>\n",
       "      <td>9.92</td>\n",
       "    </tr>\n",
       "    <tr>\n",
       "      <th>8</th>\n",
       "      <td>s_100005</td>\n",
       "      <td>c_1966</td>\n",
       "      <td>73</td>\n",
       "      <td>f</td>\n",
       "      <td>2021</td>\n",
       "      <td>10</td>\n",
       "      <td>4</td>\n",
       "      <td>0</td>\n",
       "      <td>1</td>\n",
       "      <td>4.99</td>\n",
       "    </tr>\n",
       "    <tr>\n",
       "      <th>9</th>\n",
       "      <td>s_100007</td>\n",
       "      <td>c_7695</td>\n",
       "      <td>44</td>\n",
       "      <td>m</td>\n",
       "      <td>2021</td>\n",
       "      <td>10</td>\n",
       "      <td>4</td>\n",
       "      <td>0</td>\n",
       "      <td>1</td>\n",
       "      <td>8.99</td>\n",
       "    </tr>\n",
       "  </tbody>\n",
       "</table>\n",
       "</div>"
      ],
      "text/plain": [
       "  session_id client_id  age sex  yyyy  mm  dd  day  items  trans_total\n",
       "0        s_1     c_329   55   f  2021   3   1    0      1        11.99\n",
       "1       s_10    c_2218   52   f  2021   3   1    0      1        26.99\n",
       "2      s_100    c_3854   44   f  2021   3   1    0      2        33.72\n",
       "3     s_1000    c_1014   33   m  2021   3   3    2      4        39.22\n",
       "4    s_10000     c_476   33   f  2021   3  22    0      3        41.49\n",
       "5   s_100000    c_6924   37   f  2021  10   4    0      1        10.00\n",
       "6   s_100003    c_8020   49   m  2021  10   4    0      3        51.18\n",
       "7   s_100004    c_3034   41   f  2021  10   4    0      1         9.92\n",
       "8   s_100005    c_1966   73   f  2021  10   4    0      1         4.99\n",
       "9   s_100007    c_7695   44   m  2021  10   4    0      1         8.99"
      ]
     },
     "execution_count": 12,
     "metadata": {},
     "output_type": "execute_result"
    }
   ],
   "source": [
    "#transaction totale et nombre d'items par session\n",
    "trans_total_sess = pd.pivot_table(data, index=['session_id','client_id','age','sex','yyyy','mm','dd','day'], \n",
    "                                 values=['price', 'id_prod'], \n",
    "                                 aggfunc={'price': 'sum', 'id_prod':'count'})\n",
    "trans_total_sess = trans_total_sess.rename(columns={'price':'trans_total', 'id_prod':'items'})\n",
    "trans_total_sess = trans_total_sess.rename_axis(None, axis=1)\n",
    "trans_total_sess.reset_index(inplace=True)\n",
    "trans_total_sess.head(10)"
   ]
  },
  {
   "cell_type": "code",
   "execution_count": 13,
   "metadata": {},
   "outputs": [
    {
     "data": {
      "text/html": [
       "<div>\n",
       "<style scoped>\n",
       "    .dataframe tbody tr th:only-of-type {\n",
       "        vertical-align: middle;\n",
       "    }\n",
       "\n",
       "    .dataframe tbody tr th {\n",
       "        vertical-align: top;\n",
       "    }\n",
       "\n",
       "    .dataframe thead th {\n",
       "        text-align: right;\n",
       "    }\n",
       "</style>\n",
       "<table border=\"1\" class=\"dataframe\">\n",
       "  <thead>\n",
       "    <tr style=\"text-align: right;\">\n",
       "      <th></th>\n",
       "      <th>trans_total</th>\n",
       "      <th>items</th>\n",
       "    </tr>\n",
       "  </thead>\n",
       "  <tbody>\n",
       "    <tr>\n",
       "      <th>count</th>\n",
       "      <td>159273.000000</td>\n",
       "      <td>159273.000000</td>\n",
       "    </tr>\n",
       "    <tr>\n",
       "      <th>mean</th>\n",
       "      <td>33.669693</td>\n",
       "      <td>1.968645</td>\n",
       "    </tr>\n",
       "    <tr>\n",
       "      <th>std</th>\n",
       "      <td>31.280622</td>\n",
       "      <td>1.261487</td>\n",
       "    </tr>\n",
       "    <tr>\n",
       "      <th>min</th>\n",
       "      <td>0.620000</td>\n",
       "      <td>1.000000</td>\n",
       "    </tr>\n",
       "    <tr>\n",
       "      <th>25%</th>\n",
       "      <td>14.990000</td>\n",
       "      <td>1.000000</td>\n",
       "    </tr>\n",
       "    <tr>\n",
       "      <th>50%</th>\n",
       "      <td>24.990000</td>\n",
       "      <td>2.000000</td>\n",
       "    </tr>\n",
       "    <tr>\n",
       "      <th>75%</th>\n",
       "      <td>42.360000</td>\n",
       "      <td>3.000000</td>\n",
       "    </tr>\n",
       "    <tr>\n",
       "      <th>max</th>\n",
       "      <td>539.230000</td>\n",
       "      <td>14.000000</td>\n",
       "    </tr>\n",
       "  </tbody>\n",
       "</table>\n",
       "</div>"
      ],
      "text/plain": [
       "         trans_total          items\n",
       "count  159273.000000  159273.000000\n",
       "mean       33.669693       1.968645\n",
       "std        31.280622       1.261487\n",
       "min         0.620000       1.000000\n",
       "25%        14.990000       1.000000\n",
       "50%        24.990000       2.000000\n",
       "75%        42.360000       3.000000\n",
       "max       539.230000      14.000000"
      ]
     },
     "execution_count": 13,
     "metadata": {},
     "output_type": "execute_result"
    }
   ],
   "source": [
    "trans_total_sess[['trans_total', 'items']].describe()"
   ]
  },
  {
   "cell_type": "code",
   "execution_count": 14,
   "metadata": {},
   "outputs": [
    {
     "data": {
      "image/png": "[encoded data removed]",
      "text/plain": [
       "<Figure size 720x360 with 2 Axes>"
      ]
     },
     "metadata": {
      "needs_background": "light"
     },
     "output_type": "display_data"
    }
   ],
   "source": [
    "#consommation faible [0,30)\n",
    "#consommation relativement faible [30,50)\n",
    "#consommation relativement élevée [50,100)\n",
    "#consommation élevée >=100\n",
    "sns.displot(trans_total_sess, x=\"trans_total\", col='sex', multiple=\"dodge\", bins=[0,20,50,100,600], stat='probability')\n",
    "plt.savefig('dist_mont.png');"
   ]
  },
  {
   "cell_type": "code",
   "execution_count": 15,
   "metadata": {},
   "outputs": [
    {
     "data": {
      "image/png": "[encoded data removed]",
      "text/plain": [
       "<Figure size 720x360 with 2 Axes>"
      ]
     },
     "metadata": {
      "needs_background": "light"
     },
     "output_type": "display_data"
    }
   ],
   "source": [
    "sns.displot(trans_total_sess, x=\"items\", col='sex', multiple=\"dodge\", discrete=True)\n",
    "plt.savefig('dist_items.png');"
   ]
  },
  {
   "cell_type": "code",
   "execution_count": 16,
   "metadata": {},
   "outputs": [
    {
     "data": {
      "image/png": "[encoded data removed]",
      "text/plain": [
       "<Figure size 720x360 with 2 Axes>"
      ]
     },
     "metadata": {
      "needs_background": "light"
     },
     "output_type": "display_data"
    }
   ],
   "source": [
    "sns.displot(trans_total_sess, x='day', col='sex', multiple=\"dodge\", discrete=True)\n",
    "plt.xticks([0, 1, 2, 3, 4, 5, 6], [\"LUN\", \"MAR\", \"MER\", 'JEU', 'VEN', 'SAM', 'DIM'])\n",
    "plt.savefig('dist_day.png');"
   ]
  },
  {
   "cell_type": "code",
   "execution_count": 17,
   "metadata": {},
   "outputs": [
    {
     "data": {
      "text/html": [
       "<div>\n",
       "<style scoped>\n",
       "    .dataframe tbody tr th:only-of-type {\n",
       "        vertical-align: middle;\n",
       "    }\n",
       "\n",
       "    .dataframe tbody tr th {\n",
       "        vertical-align: top;\n",
       "    }\n",
       "\n",
       "    .dataframe thead th {\n",
       "        text-align: right;\n",
       "    }\n",
       "</style>\n",
       "<table border=\"1\" class=\"dataframe\">\n",
       "  <thead>\n",
       "    <tr style=\"text-align: right;\">\n",
       "      <th></th>\n",
       "      <th>yyyy</th>\n",
       "      <th>mm</th>\n",
       "      <th>dd</th>\n",
       "      <th>day</th>\n",
       "      <th>clients</th>\n",
       "      <th>items</th>\n",
       "      <th>trans_total</th>\n",
       "    </tr>\n",
       "  </thead>\n",
       "  <tbody>\n",
       "    <tr>\n",
       "      <th>0</th>\n",
       "      <td>2021</td>\n",
       "      <td>3</td>\n",
       "      <td>1</td>\n",
       "      <td>0</td>\n",
       "      <td>457</td>\n",
       "      <td>903</td>\n",
       "      <td>15319.67</td>\n",
       "    </tr>\n",
       "    <tr>\n",
       "      <th>1</th>\n",
       "      <td>2021</td>\n",
       "      <td>3</td>\n",
       "      <td>2</td>\n",
       "      <td>1</td>\n",
       "      <td>447</td>\n",
       "      <td>868</td>\n",
       "      <td>14409.49</td>\n",
       "    </tr>\n",
       "    <tr>\n",
       "      <th>2</th>\n",
       "      <td>2021</td>\n",
       "      <td>3</td>\n",
       "      <td>3</td>\n",
       "      <td>2</td>\n",
       "      <td>404</td>\n",
       "      <td>839</td>\n",
       "      <td>13602.03</td>\n",
       "    </tr>\n",
       "    <tr>\n",
       "      <th>3</th>\n",
       "      <td>2021</td>\n",
       "      <td>3</td>\n",
       "      <td>4</td>\n",
       "      <td>3</td>\n",
       "      <td>415</td>\n",
       "      <td>830</td>\n",
       "      <td>13418.64</td>\n",
       "    </tr>\n",
       "    <tr>\n",
       "      <th>4</th>\n",
       "      <td>2021</td>\n",
       "      <td>3</td>\n",
       "      <td>5</td>\n",
       "      <td>4</td>\n",
       "      <td>460</td>\n",
       "      <td>868</td>\n",
       "      <td>15918.13</td>\n",
       "    </tr>\n",
       "    <tr>\n",
       "      <th>5</th>\n",
       "      <td>2021</td>\n",
       "      <td>3</td>\n",
       "      <td>6</td>\n",
       "      <td>5</td>\n",
       "      <td>436</td>\n",
       "      <td>887</td>\n",
       "      <td>14500.26</td>\n",
       "    </tr>\n",
       "    <tr>\n",
       "      <th>6</th>\n",
       "      <td>2021</td>\n",
       "      <td>3</td>\n",
       "      <td>7</td>\n",
       "      <td>6</td>\n",
       "      <td>417</td>\n",
       "      <td>852</td>\n",
       "      <td>13883.95</td>\n",
       "    </tr>\n",
       "    <tr>\n",
       "      <th>7</th>\n",
       "      <td>2021</td>\n",
       "      <td>3</td>\n",
       "      <td>8</td>\n",
       "      <td>0</td>\n",
       "      <td>433</td>\n",
       "      <td>867</td>\n",
       "      <td>14486.72</td>\n",
       "    </tr>\n",
       "    <tr>\n",
       "      <th>8</th>\n",
       "      <td>2021</td>\n",
       "      <td>3</td>\n",
       "      <td>9</td>\n",
       "      <td>1</td>\n",
       "      <td>431</td>\n",
       "      <td>880</td>\n",
       "      <td>14391.34</td>\n",
       "    </tr>\n",
       "    <tr>\n",
       "      <th>9</th>\n",
       "      <td>2021</td>\n",
       "      <td>3</td>\n",
       "      <td>10</td>\n",
       "      <td>2</td>\n",
       "      <td>430</td>\n",
       "      <td>885</td>\n",
       "      <td>14581.38</td>\n",
       "    </tr>\n",
       "  </tbody>\n",
       "</table>\n",
       "</div>"
      ],
      "text/plain": [
       "   yyyy  mm  dd  day  clients  items  trans_total\n",
       "0  2021   3   1    0      457    903     15319.67\n",
       "1  2021   3   2    1      447    868     14409.49\n",
       "2  2021   3   3    2      404    839     13602.03\n",
       "3  2021   3   4    3      415    830     13418.64\n",
       "4  2021   3   5    4      460    868     15918.13\n",
       "5  2021   3   6    5      436    887     14500.26\n",
       "6  2021   3   7    6      417    852     13883.95\n",
       "7  2021   3   8    0      433    867     14486.72\n",
       "8  2021   3   9    1      431    880     14391.34\n",
       "9  2021   3  10    2      430    885     14581.38"
      ]
     },
     "execution_count": 17,
     "metadata": {},
     "output_type": "execute_result"
    }
   ],
   "source": [
    "#transactions, nombre d'articles et nombre de clients, total par jour\n",
    "dayly_trans = pd.pivot_table(trans_total_sess, index=['yyyy','mm','dd','day'], \n",
    "                                 values=['trans_total', 'items', 'client_id'], \n",
    "                                 aggfunc={'trans_total': 'sum', 'items':'sum', 'client_id':'count'})\n",
    "dayly_trans = dayly_trans.rename(columns={'client_id':'clients'})\n",
    "dayly_trans = dayly_trans.rename_axis(None, axis=1)\n",
    "dayly_trans.reset_index(inplace=True)\n",
    "dayly_trans.head(10)"
   ]
  },
  {
   "cell_type": "code",
   "execution_count": 18,
   "metadata": {},
   "outputs": [
    {
     "data": {
      "text/html": [
       "<div>\n",
       "<style scoped>\n",
       "    .dataframe tbody tr th:only-of-type {\n",
       "        vertical-align: middle;\n",
       "    }\n",
       "\n",
       "    .dataframe tbody tr th {\n",
       "        vertical-align: top;\n",
       "    }\n",
       "\n",
       "    .dataframe thead th {\n",
       "        text-align: right;\n",
       "    }\n",
       "</style>\n",
       "<table border=\"1\" class=\"dataframe\">\n",
       "  <thead>\n",
       "    <tr style=\"text-align: right;\">\n",
       "      <th></th>\n",
       "      <th>clients</th>\n",
       "      <th>items</th>\n",
       "      <th>trans_total</th>\n",
       "    </tr>\n",
       "  </thead>\n",
       "  <tbody>\n",
       "    <tr>\n",
       "      <th>2021-03-01</th>\n",
       "      <td>457</td>\n",
       "      <td>903</td>\n",
       "      <td>15319.67</td>\n",
       "    </tr>\n",
       "    <tr>\n",
       "      <th>2021-03-02</th>\n",
       "      <td>447</td>\n",
       "      <td>868</td>\n",
       "      <td>14409.49</td>\n",
       "    </tr>\n",
       "    <tr>\n",
       "      <th>2021-03-03</th>\n",
       "      <td>404</td>\n",
       "      <td>839</td>\n",
       "      <td>13602.03</td>\n",
       "    </tr>\n",
       "    <tr>\n",
       "      <th>2021-03-04</th>\n",
       "      <td>415</td>\n",
       "      <td>830</td>\n",
       "      <td>13418.64</td>\n",
       "    </tr>\n",
       "    <tr>\n",
       "      <th>2021-03-05</th>\n",
       "      <td>460</td>\n",
       "      <td>868</td>\n",
       "      <td>15918.13</td>\n",
       "    </tr>\n",
       "  </tbody>\n",
       "</table>\n",
       "</div>"
      ],
      "text/plain": [
       "            clients  items  trans_total\n",
       "2021-03-01      457    903     15319.67\n",
       "2021-03-02      447    868     14409.49\n",
       "2021-03-03      404    839     13602.03\n",
       "2021-03-04      415    830     13418.64\n",
       "2021-03-05      460    868     15918.13"
      ]
     },
     "execution_count": 18,
     "metadata": {},
     "output_type": "execute_result"
    }
   ],
   "source": [
    "#créer une série temporelle avec un index comme date\n",
    "dayly_trans_series = dayly_trans.drop(columns=[\"yyyy\", \"mm\", \"dd\", 'day'])\n",
    "dayly_trans_series.index = pd.to_datetime(dayly_trans[\"yyyy\"]*10000 + dayly_trans[\"mm\"]*100 + dayly_trans[\"dd\"], format=\"%Y%m%d\")\n",
    "dayly_trans_series.head()"
   ]
  },
  {
   "cell_type": "code",
   "execution_count": 19,
   "metadata": {},
   "outputs": [
    {
     "data": {
      "text/html": [
       "<div>\n",
       "<style scoped>\n",
       "    .dataframe tbody tr th:only-of-type {\n",
       "        vertical-align: middle;\n",
       "    }\n",
       "\n",
       "    .dataframe tbody tr th {\n",
       "        vertical-align: top;\n",
       "    }\n",
       "\n",
       "    .dataframe thead th {\n",
       "        text-align: right;\n",
       "    }\n",
       "</style>\n",
       "<table border=\"1\" class=\"dataframe\">\n",
       "  <thead>\n",
       "    <tr style=\"text-align: right;\">\n",
       "      <th></th>\n",
       "      <th>clients</th>\n",
       "      <th>items</th>\n",
       "      <th>trans_total</th>\n",
       "    </tr>\n",
       "  </thead>\n",
       "  <tbody>\n",
       "    <tr>\n",
       "      <th>count</th>\n",
       "      <td>365.000000</td>\n",
       "      <td>365.000000</td>\n",
       "      <td>365.000000</td>\n",
       "    </tr>\n",
       "    <tr>\n",
       "      <th>mean</th>\n",
       "      <td>436.364384</td>\n",
       "      <td>859.046575</td>\n",
       "      <td>14692.254685</td>\n",
       "    </tr>\n",
       "    <tr>\n",
       "      <th>std</th>\n",
       "      <td>39.276441</td>\n",
       "      <td>115.696840</td>\n",
       "      <td>2070.781342</td>\n",
       "    </tr>\n",
       "    <tr>\n",
       "      <th>min</th>\n",
       "      <td>309.000000</td>\n",
       "      <td>543.000000</td>\n",
       "      <td>7396.450000</td>\n",
       "    </tr>\n",
       "    <tr>\n",
       "      <th>25%</th>\n",
       "      <td>419.000000</td>\n",
       "      <td>803.000000</td>\n",
       "      <td>14090.850000</td>\n",
       "    </tr>\n",
       "    <tr>\n",
       "      <th>50%</th>\n",
       "      <td>438.000000</td>\n",
       "      <td>861.000000</td>\n",
       "      <td>14874.760000</td>\n",
       "    </tr>\n",
       "    <tr>\n",
       "      <th>75%</th>\n",
       "      <td>462.000000</td>\n",
       "      <td>919.000000</td>\n",
       "      <td>15859.820000</td>\n",
       "    </tr>\n",
       "    <tr>\n",
       "      <th>max</th>\n",
       "      <td>512.000000</td>\n",
       "      <td>1230.000000</td>\n",
       "      <td>18880.340000</td>\n",
       "    </tr>\n",
       "  </tbody>\n",
       "</table>\n",
       "</div>"
      ],
      "text/plain": [
       "          clients        items   trans_total\n",
       "count  365.000000   365.000000    365.000000\n",
       "mean   436.364384   859.046575  14692.254685\n",
       "std     39.276441   115.696840   2070.781342\n",
       "min    309.000000   543.000000   7396.450000\n",
       "25%    419.000000   803.000000  14090.850000\n",
       "50%    438.000000   861.000000  14874.760000\n",
       "75%    462.000000   919.000000  15859.820000\n",
       "max    512.000000  1230.000000  18880.340000"
      ]
     },
     "execution_count": 19,
     "metadata": {},
     "output_type": "execute_result"
    }
   ],
   "source": [
    "dayly_trans_series.describe()"
   ]
  },
  {
   "cell_type": "code",
   "execution_count": 20,
   "metadata": {
    "scrolled": true
   },
   "outputs": [
    {
     "data": {
      "image/png": "[encoded data removed]",
      "text/plain": [
       "<Figure size 1080x432 with 3 Axes>"
      ]
     },
     "metadata": {
      "needs_background": "light"
     },
     "output_type": "display_data"
    }
   ],
   "source": [
    "dayly_trans_series.plot(subplots=True, figsize=(15,6))\n",
    "plt.savefig('daily_series.png');"
   ]
  },
  {
   "cell_type": "code",
   "execution_count": 21,
   "metadata": {},
   "outputs": [
    {
     "data": {
      "text/html": [
       "<div>\n",
       "<style scoped>\n",
       "    .dataframe tbody tr th:only-of-type {\n",
       "        vertical-align: middle;\n",
       "    }\n",
       "\n",
       "    .dataframe tbody tr th {\n",
       "        vertical-align: top;\n",
       "    }\n",
       "\n",
       "    .dataframe thead tr th {\n",
       "        text-align: left;\n",
       "    }\n",
       "</style>\n",
       "<table border=\"1\" class=\"dataframe\">\n",
       "  <thead>\n",
       "    <tr>\n",
       "      <th></th>\n",
       "      <th colspan=\"3\" halign=\"left\">trans_total_cat</th>\n",
       "    </tr>\n",
       "    <tr>\n",
       "      <th>categ</th>\n",
       "      <th>0</th>\n",
       "      <th>1</th>\n",
       "      <th>2</th>\n",
       "    </tr>\n",
       "  </thead>\n",
       "  <tbody>\n",
       "    <tr>\n",
       "      <th>JAN</th>\n",
       "      <td>153501.60</td>\n",
       "      <td>239849.07</td>\n",
       "      <td>93224.71</td>\n",
       "    </tr>\n",
       "    <tr>\n",
       "      <th>FEV</th>\n",
       "      <td>171153.37</td>\n",
       "      <td>199168.20</td>\n",
       "      <td>119774.94</td>\n",
       "    </tr>\n",
       "    <tr>\n",
       "      <th>MAR</th>\n",
       "      <td>180578.15</td>\n",
       "      <td>174569.68</td>\n",
       "      <td>87791.28</td>\n",
       "    </tr>\n",
       "    <tr>\n",
       "      <th>AVR</th>\n",
       "      <td>191395.39</td>\n",
       "      <td>145272.82</td>\n",
       "      <td>99541.06</td>\n",
       "    </tr>\n",
       "    <tr>\n",
       "      <th>MAI</th>\n",
       "      <td>182278.75</td>\n",
       "      <td>155309.63</td>\n",
       "      <td>113723.56</td>\n",
       "    </tr>\n",
       "    <tr>\n",
       "      <th>JUN</th>\n",
       "      <td>156576.88</td>\n",
       "      <td>177840.33</td>\n",
       "      <td>110450.26</td>\n",
       "    </tr>\n",
       "    <tr>\n",
       "      <th>JUL</th>\n",
       "      <td>135417.40</td>\n",
       "      <td>176647.61</td>\n",
       "      <td>133591.40</td>\n",
       "    </tr>\n",
       "    <tr>\n",
       "      <th>AOU</th>\n",
       "      <td>156822.46</td>\n",
       "      <td>152886.83</td>\n",
       "      <td>133462.39</td>\n",
       "    </tr>\n",
       "    <tr>\n",
       "      <th>SEP</th>\n",
       "      <td>229084.41</td>\n",
       "      <td>177809.68</td>\n",
       "      <td>59856.27</td>\n",
       "    </tr>\n",
       "    <tr>\n",
       "      <th>OCT</th>\n",
       "      <td>184775.95</td>\n",
       "      <td>31892.01</td>\n",
       "      <td>78570.59</td>\n",
       "    </tr>\n",
       "    <tr>\n",
       "      <th>NOV</th>\n",
       "      <td>144623.31</td>\n",
       "      <td>235970.11</td>\n",
       "      <td>94519.06</td>\n",
       "    </tr>\n",
       "    <tr>\n",
       "      <th>DEC</th>\n",
       "      <td>191397.34</td>\n",
       "      <td>234369.37</td>\n",
       "      <td>58977.09</td>\n",
       "    </tr>\n",
       "  </tbody>\n",
       "</table>\n",
       "</div>"
      ],
      "text/plain": [
       "      trans_total_cat                      \n",
       "categ               0          1          2\n",
       "JAN         153501.60  239849.07   93224.71\n",
       "FEV         171153.37  199168.20  119774.94\n",
       "MAR         180578.15  174569.68   87791.28\n",
       "AVR         191395.39  145272.82   99541.06\n",
       "MAI         182278.75  155309.63  113723.56\n",
       "JUN         156576.88  177840.33  110450.26\n",
       "JUL         135417.40  176647.61  133591.40\n",
       "AOU         156822.46  152886.83  133462.39\n",
       "SEP         229084.41  177809.68   59856.27\n",
       "OCT         184775.95   31892.01   78570.59\n",
       "NOV         144623.31  235970.11   94519.06\n",
       "DEC         191397.34  234369.37   58977.09"
      ]
     },
     "execution_count": 21,
     "metadata": {},
     "output_type": "execute_result"
    }
   ],
   "source": [
    "trans_mm = pd.pivot_table(data, index=['mm'], columns=['categ'], values=['price'], \n",
    "                                     aggfunc={'price': 'sum'})\n",
    "trans_mm = trans_mm.rename(columns={'price':'trans_total_cat'})\n",
    "trans_mm.index = ['JAN','FEV','MAR','AVR','MAI','JUN','JUL','AOU','SEP','OCT','NOV','DEC']\n",
    "trans_mm"
   ]
  },
  {
   "cell_type": "code",
   "execution_count": 22,
   "metadata": {},
   "outputs": [
    {
     "data": {
      "image/png": "[encoded data removed]",
      "text/plain": [
       "<Figure size 1080x288 with 1 Axes>"
      ]
     },
     "metadata": {
      "needs_background": "light"
     },
     "output_type": "display_data"
    }
   ],
   "source": [
    "trans_mm.plot(figsize=(15,4))\n",
    "plt.axis([-1, 12, 0, 250000])\n",
    "plt.xticks([0, 1, 2, 3, 4, 5, 6, 7, 8, 9, 10, 11], \n",
    "           ['JAN','FEV','MAR','AVR','MAI','JUN','JUL','AOU','SEP','OCT','NOV','DEC'], \n",
    "           rotation=20)\n",
    "plt.xlabel('Mois')\n",
    "plt.ylabel('Total des opérations')\n",
    "plt.legend(loc='upper left')\n",
    "plt.annotate('Crash de la catégorie 1', xy=(9, 30000), xytext=(10, 35000),\n",
    "             arrowprops=dict(facecolor='black'))\n",
    "plt.savefig('series_cat.png');"
   ]
  },
  {
   "cell_type": "code",
   "execution_count": 23,
   "metadata": {},
   "outputs": [
    {
     "data": {
      "text/html": [
       "<div>\n",
       "<style scoped>\n",
       "    .dataframe tbody tr th:only-of-type {\n",
       "        vertical-align: middle;\n",
       "    }\n",
       "\n",
       "    .dataframe tbody tr th {\n",
       "        vertical-align: top;\n",
       "    }\n",
       "\n",
       "    .dataframe thead th {\n",
       "        text-align: right;\n",
       "    }\n",
       "</style>\n",
       "<table border=\"1\" class=\"dataframe\">\n",
       "  <thead>\n",
       "    <tr style=\"text-align: right;\">\n",
       "      <th>categ</th>\n",
       "      <th>0</th>\n",
       "      <th>1</th>\n",
       "      <th>2</th>\n",
       "      <th>Total</th>\n",
       "    </tr>\n",
       "    <tr>\n",
       "      <th>sex</th>\n",
       "      <th></th>\n",
       "      <th></th>\n",
       "      <th></th>\n",
       "      <th></th>\n",
       "    </tr>\n",
       "  </thead>\n",
       "  <tbody>\n",
       "    <tr>\n",
       "      <th>f</th>\n",
       "      <td>101148</td>\n",
       "      <td>53774</td>\n",
       "      <td>8122</td>\n",
       "      <td>163044</td>\n",
       "    </tr>\n",
       "    <tr>\n",
       "      <th>m</th>\n",
       "      <td>94023</td>\n",
       "      <td>48851</td>\n",
       "      <td>7634</td>\n",
       "      <td>150508</td>\n",
       "    </tr>\n",
       "    <tr>\n",
       "      <th>Total</th>\n",
       "      <td>195171</td>\n",
       "      <td>102625</td>\n",
       "      <td>15756</td>\n",
       "      <td>313552</td>\n",
       "    </tr>\n",
       "  </tbody>\n",
       "</table>\n",
       "</div>"
      ],
      "text/plain": [
       "categ       0       1      2   Total\n",
       "sex                                 \n",
       "f      101148   53774   8122  163044\n",
       "m       94023   48851   7634  150508\n",
       "Total  195171  102625  15756  313552"
      ]
     },
     "execution_count": 23,
     "metadata": {},
     "output_type": "execute_result"
    }
   ],
   "source": [
    "#tableau de contingence\n",
    "X = \"sex\"\n",
    "Y = \"categ\"\n",
    "cont_s_cat = data[[X,Y]].pivot_table(index=X,columns=Y, aggfunc=len, margins=True, margins_name=\"Total\")\n",
    "cont_s_cat.head()"
   ]
  },
  {
   "cell_type": "code",
   "execution_count": 24,
   "metadata": {},
   "outputs": [
    {
     "data": {
      "text/html": [
       "<div>\n",
       "<style scoped>\n",
       "    .dataframe tbody tr th:only-of-type {\n",
       "        vertical-align: middle;\n",
       "    }\n",
       "\n",
       "    .dataframe tbody tr th {\n",
       "        vertical-align: top;\n",
       "    }\n",
       "\n",
       "    .dataframe thead th {\n",
       "        text-align: right;\n",
       "    }\n",
       "</style>\n",
       "<table border=\"1\" class=\"dataframe\">\n",
       "  <thead>\n",
       "    <tr style=\"text-align: right;\">\n",
       "      <th>categ</th>\n",
       "      <th>0</th>\n",
       "      <th>1</th>\n",
       "      <th>2</th>\n",
       "      <th>Total</th>\n",
       "    </tr>\n",
       "    <tr>\n",
       "      <th>sex</th>\n",
       "      <th></th>\n",
       "      <th></th>\n",
       "      <th></th>\n",
       "      <th></th>\n",
       "    </tr>\n",
       "  </thead>\n",
       "  <tbody>\n",
       "    <tr>\n",
       "      <th>f</th>\n",
       "      <td>101487.027747</td>\n",
       "      <td>53364.005014</td>\n",
       "      <td>8192.96724</td>\n",
       "      <td>163044.0</td>\n",
       "    </tr>\n",
       "    <tr>\n",
       "      <th>m</th>\n",
       "      <td>93683.972253</td>\n",
       "      <td>49260.994986</td>\n",
       "      <td>7563.03276</td>\n",
       "      <td>150508.0</td>\n",
       "    </tr>\n",
       "    <tr>\n",
       "      <th>Total</th>\n",
       "      <td>195171.000000</td>\n",
       "      <td>102625.000000</td>\n",
       "      <td>15756.00000</td>\n",
       "      <td>313552.0</td>\n",
       "    </tr>\n",
       "  </tbody>\n",
       "</table>\n",
       "</div>"
      ],
      "text/plain": [
       "categ              0              1            2     Total\n",
       "sex                                                       \n",
       "f      101487.027747   53364.005014   8192.96724  163044.0\n",
       "m       93683.972253   49260.994986   7563.03276  150508.0\n",
       "Total  195171.000000  102625.000000  15756.00000  313552.0"
      ]
     },
     "execution_count": 24,
     "metadata": {},
     "output_type": "execute_result"
    }
   ],
   "source": [
    "tx = cont_s_cat.loc[:,[\"Total\"]]\n",
    "ty = cont_s_cat.loc[[\"Total\"],:]\n",
    "n = len(data)\n",
    "indep = tx.dot(ty) / n\n",
    "indep"
   ]
  },
  {
   "cell_type": "code",
   "execution_count": 25,
   "metadata": {},
   "outputs": [
    {
     "data": {
      "text/plain": [
       "10.202417277273174"
      ]
     },
     "execution_count": 25,
     "metadata": {},
     "output_type": "execute_result"
    }
   ],
   "source": [
    "measure = (cont_s_cat-indep)**2/indep\n",
    "measure = measure.drop(columns = ['Total'])\n",
    "measure = measure.drop(['Total'])\n",
    "xi_n = measure.sum().sum()\n",
    "xi_n"
   ]
  },
  {
   "cell_type": "code",
   "execution_count": 26,
   "metadata": {},
   "outputs": [
    {
     "data": {
      "image/png": "[encoded data removed]",
      "text/plain": [
       "<Figure size 432x288 with 2 Axes>"
      ]
     },
     "metadata": {
      "needs_background": "light"
     },
     "output_type": "display_data"
    }
   ],
   "source": [
    "sns.heatmap(measure/xi_n, cmap='Blues', annot=cont_s_cat.iloc[:-1,:-1], fmt='d')\n",
    "plt.xlabel('Categorie')\n",
    "plt.ylabel('Sexe')\n",
    "plt.savefig('heatmap.png');"
   ]
  },
  {
   "cell_type": "code",
   "execution_count": 27,
   "metadata": {},
   "outputs": [
    {
     "data": {
      "text/html": [
       "<div>\n",
       "<style scoped>\n",
       "    .dataframe tbody tr th:only-of-type {\n",
       "        vertical-align: middle;\n",
       "    }\n",
       "\n",
       "    .dataframe tbody tr th {\n",
       "        vertical-align: top;\n",
       "    }\n",
       "\n",
       "    .dataframe thead th {\n",
       "        text-align: right;\n",
       "    }\n",
       "</style>\n",
       "<table border=\"1\" class=\"dataframe\">\n",
       "  <thead>\n",
       "    <tr style=\"text-align: right;\">\n",
       "      <th></th>\n",
       "      <th>id_prod</th>\n",
       "      <th>date</th>\n",
       "      <th>session_id</th>\n",
       "      <th>client_id</th>\n",
       "      <th>sex</th>\n",
       "      <th>birth</th>\n",
       "      <th>age</th>\n",
       "      <th>price</th>\n",
       "      <th>categ</th>\n",
       "      <th>yyyy</th>\n",
       "      <th>mm</th>\n",
       "      <th>dd</th>\n",
       "      <th>hh</th>\n",
       "      <th>day</th>\n",
       "      <th>gen</th>\n",
       "    </tr>\n",
       "  </thead>\n",
       "  <tbody>\n",
       "    <tr>\n",
       "      <th>0</th>\n",
       "      <td>0_1483</td>\n",
       "      <td>2021-04-10 18:37:28.723910</td>\n",
       "      <td>s_18746</td>\n",
       "      <td>c_4450</td>\n",
       "      <td>f</td>\n",
       "      <td>1977</td>\n",
       "      <td>45</td>\n",
       "      <td>4.99</td>\n",
       "      <td>0</td>\n",
       "      <td>2021</td>\n",
       "      <td>4</td>\n",
       "      <td>10</td>\n",
       "      <td>18</td>\n",
       "      <td>5</td>\n",
       "      <td>gen_x</td>\n",
       "    </tr>\n",
       "    <tr>\n",
       "      <th>1</th>\n",
       "      <td>0_1483</td>\n",
       "      <td>2021-12-27 11:11:12.123067</td>\n",
       "      <td>s_140787</td>\n",
       "      <td>c_5433</td>\n",
       "      <td>f</td>\n",
       "      <td>1981</td>\n",
       "      <td>41</td>\n",
       "      <td>4.99</td>\n",
       "      <td>0</td>\n",
       "      <td>2021</td>\n",
       "      <td>12</td>\n",
       "      <td>27</td>\n",
       "      <td>11</td>\n",
       "      <td>0</td>\n",
       "      <td>mill</td>\n",
       "    </tr>\n",
       "    <tr>\n",
       "      <th>2</th>\n",
       "      <td>0_1483</td>\n",
       "      <td>2021-10-27 04:56:38.293970</td>\n",
       "      <td>s_110736</td>\n",
       "      <td>c_857</td>\n",
       "      <td>m</td>\n",
       "      <td>1985</td>\n",
       "      <td>37</td>\n",
       "      <td>4.99</td>\n",
       "      <td>0</td>\n",
       "      <td>2021</td>\n",
       "      <td>10</td>\n",
       "      <td>27</td>\n",
       "      <td>4</td>\n",
       "      <td>2</td>\n",
       "      <td>mill</td>\n",
       "    </tr>\n",
       "    <tr>\n",
       "      <th>3</th>\n",
       "      <td>0_1483</td>\n",
       "      <td>2021-07-04 06:43:45.676567</td>\n",
       "      <td>s_57626</td>\n",
       "      <td>c_3679</td>\n",
       "      <td>f</td>\n",
       "      <td>1989</td>\n",
       "      <td>33</td>\n",
       "      <td>4.99</td>\n",
       "      <td>0</td>\n",
       "      <td>2021</td>\n",
       "      <td>7</td>\n",
       "      <td>4</td>\n",
       "      <td>6</td>\n",
       "      <td>6</td>\n",
       "      <td>mill</td>\n",
       "    </tr>\n",
       "    <tr>\n",
       "      <th>4</th>\n",
       "      <td>0_1483</td>\n",
       "      <td>2021-11-13 02:04:21.760392</td>\n",
       "      <td>s_118789</td>\n",
       "      <td>c_868</td>\n",
       "      <td>m</td>\n",
       "      <td>1975</td>\n",
       "      <td>47</td>\n",
       "      <td>4.99</td>\n",
       "      <td>0</td>\n",
       "      <td>2021</td>\n",
       "      <td>11</td>\n",
       "      <td>13</td>\n",
       "      <td>2</td>\n",
       "      <td>5</td>\n",
       "      <td>gen_x</td>\n",
       "    </tr>\n",
       "  </tbody>\n",
       "</table>\n",
       "</div>"
      ],
      "text/plain": [
       "  id_prod                        date session_id client_id sex  birth  age  \\\n",
       "0  0_1483  2021-04-10 18:37:28.723910    s_18746    c_4450   f   1977   45   \n",
       "1  0_1483  2021-12-27 11:11:12.123067   s_140787    c_5433   f   1981   41   \n",
       "2  0_1483  2021-10-27 04:56:38.293970   s_110736     c_857   m   1985   37   \n",
       "3  0_1483  2021-07-04 06:43:45.676567    s_57626    c_3679   f   1989   33   \n",
       "4  0_1483  2021-11-13 02:04:21.760392   s_118789     c_868   m   1975   47   \n",
       "\n",
       "   price  categ  yyyy  mm  dd  hh  day    gen  \n",
       "0   4.99      0  2021   4  10  18    5  gen_x  \n",
       "1   4.99      0  2021  12  27  11    0   mill  \n",
       "2   4.99      0  2021  10  27   4    2   mill  \n",
       "3   4.99      0  2021   7   4   6    6   mill  \n",
       "4   4.99      0  2021  11  13   2    5  gen_x  "
      ]
     },
     "execution_count": 27,
     "metadata": {},
     "output_type": "execute_result"
    }
   ],
   "source": [
    "generation = []\n",
    "for y in data.birth:\n",
    "    if y<1946:\n",
    "        generation.append('sil_gen')\n",
    "    elif 1946<=y<1965:\n",
    "        generation.append('b_boom')\n",
    "    elif 1965<=y<1981:\n",
    "        generation.append('gen_x')\n",
    "    elif 1981<=y<1997:\n",
    "        generation.append('mill')\n",
    "    else:\n",
    "        generation.append('gen_z')\n",
    "\n",
    "data['gen'] = generation\n",
    "data.head()"
   ]
  },
  {
   "cell_type": "code",
   "execution_count": 28,
   "metadata": {},
   "outputs": [
    {
     "data": {
      "text/html": [
       "<div>\n",
       "<style scoped>\n",
       "    .dataframe tbody tr th:only-of-type {\n",
       "        vertical-align: middle;\n",
       "    }\n",
       "\n",
       "    .dataframe tbody tr th {\n",
       "        vertical-align: top;\n",
       "    }\n",
       "\n",
       "    .dataframe thead th {\n",
       "        text-align: right;\n",
       "    }\n",
       "</style>\n",
       "<table border=\"1\" class=\"dataframe\">\n",
       "  <thead>\n",
       "    <tr style=\"text-align: right;\">\n",
       "      <th>gen</th>\n",
       "      <th>b_boom</th>\n",
       "      <th>gen_x</th>\n",
       "      <th>gen_z</th>\n",
       "      <th>mill</th>\n",
       "      <th>sil_gen</th>\n",
       "      <th>Total</th>\n",
       "    </tr>\n",
       "    <tr>\n",
       "      <th>categ</th>\n",
       "      <th></th>\n",
       "      <th></th>\n",
       "      <th></th>\n",
       "      <th></th>\n",
       "      <th></th>\n",
       "      <th></th>\n",
       "    </tr>\n",
       "  </thead>\n",
       "  <tbody>\n",
       "    <tr>\n",
       "      <th>0</th>\n",
       "      <td>19437</td>\n",
       "      <td>81653</td>\n",
       "      <td>5375</td>\n",
       "      <td>85239</td>\n",
       "      <td>3467</td>\n",
       "      <td>195171</td>\n",
       "    </tr>\n",
       "    <tr>\n",
       "      <th>1</th>\n",
       "      <td>23940</td>\n",
       "      <td>36391</td>\n",
       "      <td>8581</td>\n",
       "      <td>29378</td>\n",
       "      <td>4335</td>\n",
       "      <td>102625</td>\n",
       "    </tr>\n",
       "    <tr>\n",
       "      <th>2</th>\n",
       "      <td>365</td>\n",
       "      <td>504</td>\n",
       "      <td>9102</td>\n",
       "      <td>5717</td>\n",
       "      <td>68</td>\n",
       "      <td>15756</td>\n",
       "    </tr>\n",
       "    <tr>\n",
       "      <th>Total</th>\n",
       "      <td>43742</td>\n",
       "      <td>118548</td>\n",
       "      <td>23058</td>\n",
       "      <td>120334</td>\n",
       "      <td>7870</td>\n",
       "      <td>313552</td>\n",
       "    </tr>\n",
       "  </tbody>\n",
       "</table>\n",
       "</div>"
      ],
      "text/plain": [
       "gen    b_boom   gen_x  gen_z    mill  sil_gen   Total\n",
       "categ                                                \n",
       "0       19437   81653   5375   85239     3467  195171\n",
       "1       23940   36391   8581   29378     4335  102625\n",
       "2         365     504   9102    5717       68   15756\n",
       "Total   43742  118548  23058  120334     7870  313552"
      ]
     },
     "execution_count": 28,
     "metadata": {},
     "output_type": "execute_result"
    }
   ],
   "source": [
    "#tableau de contingence\n",
    "W = \"gen\"\n",
    "Z = \"categ\"\n",
    "cont_gen_cat = data[[W,Z]].pivot_table(index=Z,columns=W, aggfunc=len, margins=True, margins_name=\"Total\")\n",
    "cont_gen_cat"
   ]
  },
  {
   "cell_type": "code",
   "execution_count": 29,
   "metadata": {},
   "outputs": [
    {
     "data": {
      "text/html": [
       "<div>\n",
       "<style scoped>\n",
       "    .dataframe tbody tr th:only-of-type {\n",
       "        vertical-align: middle;\n",
       "    }\n",
       "\n",
       "    .dataframe tbody tr th {\n",
       "        vertical-align: top;\n",
       "    }\n",
       "\n",
       "    .dataframe thead th {\n",
       "        text-align: right;\n",
       "    }\n",
       "</style>\n",
       "<table border=\"1\" class=\"dataframe\">\n",
       "  <thead>\n",
       "    <tr style=\"text-align: right;\">\n",
       "      <th>gen</th>\n",
       "      <th>b_boom</th>\n",
       "      <th>gen_x</th>\n",
       "      <th>gen_z</th>\n",
       "      <th>mill</th>\n",
       "      <th>sil_gen</th>\n",
       "      <th>Total</th>\n",
       "    </tr>\n",
       "    <tr>\n",
       "      <th>categ</th>\n",
       "      <th></th>\n",
       "      <th></th>\n",
       "      <th></th>\n",
       "      <th></th>\n",
       "      <th></th>\n",
       "      <th></th>\n",
       "    </tr>\n",
       "  </thead>\n",
       "  <tbody>\n",
       "    <tr>\n",
       "      <th>0</th>\n",
       "      <td>27227.285688</td>\n",
       "      <td>73790.413418</td>\n",
       "      <td>14352.493105</td>\n",
       "      <td>74902.112294</td>\n",
       "      <td>4898.695495</td>\n",
       "      <td>195171.0</td>\n",
       "    </tr>\n",
       "    <tr>\n",
       "      <th>1</th>\n",
       "      <td>14316.677138</td>\n",
       "      <td>38800.545045</td>\n",
       "      <td>7546.841513</td>\n",
       "      <td>39385.099601</td>\n",
       "      <td>2575.836703</td>\n",
       "      <td>102625.0</td>\n",
       "    </tr>\n",
       "    <tr>\n",
       "      <th>2</th>\n",
       "      <td>2198.037174</td>\n",
       "      <td>5957.041537</td>\n",
       "      <td>1158.665382</td>\n",
       "      <td>6046.788105</td>\n",
       "      <td>395.467801</td>\n",
       "      <td>15756.0</td>\n",
       "    </tr>\n",
       "    <tr>\n",
       "      <th>Total</th>\n",
       "      <td>43742.000000</td>\n",
       "      <td>118548.000000</td>\n",
       "      <td>23058.000000</td>\n",
       "      <td>120334.000000</td>\n",
       "      <td>7870.000000</td>\n",
       "      <td>313552.0</td>\n",
       "    </tr>\n",
       "  </tbody>\n",
       "</table>\n",
       "</div>"
      ],
      "text/plain": [
       "gen          b_boom          gen_x         gen_z           mill      sil_gen  \\\n",
       "categ                                                                          \n",
       "0      27227.285688   73790.413418  14352.493105   74902.112294  4898.695495   \n",
       "1      14316.677138   38800.545045   7546.841513   39385.099601  2575.836703   \n",
       "2       2198.037174    5957.041537   1158.665382    6046.788105   395.467801   \n",
       "Total  43742.000000  118548.000000  23058.000000  120334.000000  7870.000000   \n",
       "\n",
       "gen       Total  \n",
       "categ            \n",
       "0      195171.0  \n",
       "1      102625.0  \n",
       "2       15756.0  \n",
       "Total  313552.0  "
      ]
     },
     "execution_count": 29,
     "metadata": {},
     "output_type": "execute_result"
    }
   ],
   "source": [
    "tx2 = cont_gen_cat.loc[:,[\"Total\"]]\n",
    "ty2 = cont_gen_cat.loc[[\"Total\"],:]\n",
    "n = len(data)\n",
    "indep2 = tx2.dot(ty2) / n\n",
    "indep2"
   ]
  },
  {
   "cell_type": "code",
   "execution_count": 30,
   "metadata": {},
   "outputs": [
    {
     "data": {
      "text/plain": [
       "82296.83179443232"
      ]
     },
     "execution_count": 30,
     "metadata": {},
     "output_type": "execute_result"
    }
   ],
   "source": [
    "measure_gen = (cont_gen_cat-indep2)**2/indep2\n",
    "measure_gen = measure_gen.drop(columns = ['Total'])\n",
    "measure_gen = measure_gen.drop(['Total'])\n",
    "xi_n_gen = measure_gen.sum().sum()\n",
    "xi_n_gen"
   ]
  },
  {
   "cell_type": "code",
   "execution_count": 31,
   "metadata": {},
   "outputs": [
    {
     "data": {
      "image/png": "[encoded data removed]",
      "text/plain": [
       "<Figure size 432x288 with 2 Axes>"
      ]
     },
     "metadata": {
      "needs_background": "light"
     },
     "output_type": "display_data"
    }
   ],
   "source": [
    "sns.heatmap(measure_gen/xi_n_gen, cmap='Blues', annot=cont_gen_cat.iloc[:-1,:-1], fmt='d')\n",
    "plt.ylabel('Categorie')\n",
    "plt.xlabel('Generation')\n",
    "plt.savefig('heatmap_gen.png');"
   ]
  },
  {
   "cell_type": "code",
   "execution_count": 32,
   "metadata": {},
   "outputs": [
    {
     "data": {
      "image/png": "[encoded data removed]",
      "text/plain": [
       "<Figure size 432x288 with 1 Axes>"
      ]
     },
     "metadata": {
      "needs_background": "light"
     },
     "output_type": "display_data"
    }
   ],
   "source": [
    "plt.plot(trans_total_sess[\"age\"],trans_total_sess[\"trans_total\"], 'o', alpha=0.5)\n",
    "plt.xlabel(\"age\")\n",
    "plt.ylabel(\"Montant du panier\")\n",
    "plt.savefig('mont_age_all.png')\n",
    "plt.show()"
   ]
  },
  {
   "cell_type": "code",
   "execution_count": 33,
   "metadata": {},
   "outputs": [
    {
     "data": {
      "text/html": [
       "<div>\n",
       "<style scoped>\n",
       "    .dataframe tbody tr th:only-of-type {\n",
       "        vertical-align: middle;\n",
       "    }\n",
       "\n",
       "    .dataframe tbody tr th {\n",
       "        vertical-align: top;\n",
       "    }\n",
       "\n",
       "    .dataframe thead th {\n",
       "        text-align: right;\n",
       "    }\n",
       "</style>\n",
       "<table border=\"1\" class=\"dataframe\">\n",
       "  <thead>\n",
       "    <tr style=\"text-align: right;\">\n",
       "      <th></th>\n",
       "      <th>age</th>\n",
       "      <th>avg_trans</th>\n",
       "    </tr>\n",
       "  </thead>\n",
       "  <tbody>\n",
       "    <tr>\n",
       "      <th>0</th>\n",
       "      <td>18</td>\n",
       "      <td>69.815169</td>\n",
       "    </tr>\n",
       "    <tr>\n",
       "      <th>1</th>\n",
       "      <td>19</td>\n",
       "      <td>69.164496</td>\n",
       "    </tr>\n",
       "    <tr>\n",
       "      <th>2</th>\n",
       "      <td>20</td>\n",
       "      <td>69.697690</td>\n",
       "    </tr>\n",
       "    <tr>\n",
       "      <th>3</th>\n",
       "      <td>21</td>\n",
       "      <td>71.629941</td>\n",
       "    </tr>\n",
       "    <tr>\n",
       "      <th>4</th>\n",
       "      <td>22</td>\n",
       "      <td>67.254341</td>\n",
       "    </tr>\n",
       "    <tr>\n",
       "      <th>5</th>\n",
       "      <td>23</td>\n",
       "      <td>70.500453</td>\n",
       "    </tr>\n",
       "    <tr>\n",
       "      <th>6</th>\n",
       "      <td>24</td>\n",
       "      <td>71.151096</td>\n",
       "    </tr>\n",
       "    <tr>\n",
       "      <th>7</th>\n",
       "      <td>25</td>\n",
       "      <td>70.082701</td>\n",
       "    </tr>\n",
       "    <tr>\n",
       "      <th>8</th>\n",
       "      <td>26</td>\n",
       "      <td>72.320455</td>\n",
       "    </tr>\n",
       "    <tr>\n",
       "      <th>9</th>\n",
       "      <td>27</td>\n",
       "      <td>69.323027</td>\n",
       "    </tr>\n",
       "  </tbody>\n",
       "</table>\n",
       "</div>"
      ],
      "text/plain": [
       "   age  avg_trans\n",
       "0   18  69.815169\n",
       "1   19  69.164496\n",
       "2   20  69.697690\n",
       "3   21  71.629941\n",
       "4   22  67.254341\n",
       "5   23  70.500453\n",
       "6   24  71.151096\n",
       "7   25  70.082701\n",
       "8   26  72.320455\n",
       "9   27  69.323027"
      ]
     },
     "execution_count": 33,
     "metadata": {},
     "output_type": "execute_result"
    }
   ],
   "source": [
    "avg_trans_age = pd.pivot_table(trans_total_sess, index=['age'],\n",
    "                         values=['trans_total'], \n",
    "                         aggfunc={'trans_total':'mean'})\n",
    "avg_trans_age = avg_trans_age.rename(columns={'trans_total':'avg_trans'})\n",
    "avg_trans_age = avg_trans_age.rename_axis(None, axis=1)\n",
    "avg_trans_age.reset_index(inplace=True)\n",
    "avg_trans_age.head(10)"
   ]
  },
  {
   "cell_type": "code",
   "execution_count": 34,
   "metadata": {
    "scrolled": true
   },
   "outputs": [
    {
     "data": {
      "image/png": "[encoded data removed]",
      "text/plain": [
       "<Figure size 432x288 with 1 Axes>"
      ]
     },
     "metadata": {
      "needs_background": "light"
     },
     "output_type": "display_data"
    }
   ],
   "source": [
    "plt.plot(avg_trans_age[\"age\"],avg_trans_age[\"avg_trans\"], 'o', alpha=0.5)\n",
    "plt.xlabel(\"age\")\n",
    "plt.ylabel(\"montant moyen du panier\")\n",
    "plt.savefig('mont_age_avg.png')\n",
    "plt.show()"
   ]
  },
  {
   "cell_type": "code",
   "execution_count": 35,
   "metadata": {},
   "outputs": [
    {
     "name": "stdout",
     "output_type": "stream",
     "text": [
      "intercept = 65.25726435492358\n",
      "coef. = [-0.56783893]\n",
      "R^2 = 0.5552877275338806\n"
     ]
    }
   ],
   "source": [
    "X1 = avg_trans_age[[\"age\"]]\n",
    "y1 = avg_trans_age[\"avg_trans\"]\n",
    "reg1 = linear_model.LinearRegression().fit(X1, y1)\n",
    "print('intercept = {}'.format(reg1.intercept_))\n",
    "print('coef. = {}'.format(reg1.coef_))\n",
    "print('R^2 = {}'.format(reg1.score(X1, y1)))"
   ]
  },
  {
   "cell_type": "code",
   "execution_count": 36,
   "metadata": {},
   "outputs": [
    {
     "data": {
      "image/png": "[encoded data removed]",
      "text/plain": [
       "<Figure size 432x288 with 1 Axes>"
      ]
     },
     "metadata": {
      "needs_background": "light"
     },
     "output_type": "display_data"
    }
   ],
   "source": [
    "plt.plot(avg_trans_age[\"age\"],avg_trans_age[\"avg_trans\"], 'o', alpha=0.5)\n",
    "plt.plot(range(18, 92),[reg1.coef_*x+reg1.intercept_ for x in range(18, 92)])\n",
    "plt.xlabel(\"age\")\n",
    "plt.ylabel(\"montant moyen du panier\")\n",
    "plt.savefig('mont_age_reg.png')\n",
    "plt.show()"
   ]
  },
  {
   "cell_type": "code",
   "execution_count": 37,
   "metadata": {},
   "outputs": [
    {
     "data": {
      "image/png": "[encoded data removed]",
      "text/plain": [
       "<Figure size 432x288 with 1 Axes>"
      ]
     },
     "metadata": {
      "needs_background": "light"
     },
     "output_type": "display_data"
    }
   ],
   "source": [
    "plt.plot(trans_total_sess[\"age\"],trans_total_sess[\"items\"], 'o', alpha=0.5)\n",
    "plt.xlabel(\"age\")\n",
    "plt.ylabel(\"taille du panier (nombre de articles) per session\")\n",
    "plt.savefig('tail_age.png')\n",
    "plt.show()"
   ]
  },
  {
   "cell_type": "code",
   "execution_count": 38,
   "metadata": {},
   "outputs": [
    {
     "data": {
      "text/html": [
       "<div>\n",
       "<style scoped>\n",
       "    .dataframe tbody tr th:only-of-type {\n",
       "        vertical-align: middle;\n",
       "    }\n",
       "\n",
       "    .dataframe tbody tr th {\n",
       "        vertical-align: top;\n",
       "    }\n",
       "\n",
       "    .dataframe thead th {\n",
       "        text-align: right;\n",
       "    }\n",
       "</style>\n",
       "<table border=\"1\" class=\"dataframe\">\n",
       "  <thead>\n",
       "    <tr style=\"text-align: right;\">\n",
       "      <th></th>\n",
       "      <th>age</th>\n",
       "      <th>avg_items</th>\n",
       "    </tr>\n",
       "  </thead>\n",
       "  <tbody>\n",
       "    <tr>\n",
       "      <th>0</th>\n",
       "      <td>18</td>\n",
       "      <td>1.736705</td>\n",
       "    </tr>\n",
       "    <tr>\n",
       "      <th>1</th>\n",
       "      <td>19</td>\n",
       "      <td>1.706020</td>\n",
       "    </tr>\n",
       "    <tr>\n",
       "      <th>2</th>\n",
       "      <td>20</td>\n",
       "      <td>1.723256</td>\n",
       "    </tr>\n",
       "    <tr>\n",
       "      <th>3</th>\n",
       "      <td>21</td>\n",
       "      <td>1.714768</td>\n",
       "    </tr>\n",
       "    <tr>\n",
       "      <th>4</th>\n",
       "      <td>22</td>\n",
       "      <td>1.825357</td>\n",
       "    </tr>\n",
       "    <tr>\n",
       "      <th>5</th>\n",
       "      <td>23</td>\n",
       "      <td>1.780131</td>\n",
       "    </tr>\n",
       "    <tr>\n",
       "      <th>6</th>\n",
       "      <td>24</td>\n",
       "      <td>1.722222</td>\n",
       "    </tr>\n",
       "    <tr>\n",
       "      <th>7</th>\n",
       "      <td>25</td>\n",
       "      <td>1.837450</td>\n",
       "    </tr>\n",
       "    <tr>\n",
       "      <th>8</th>\n",
       "      <td>26</td>\n",
       "      <td>1.696254</td>\n",
       "    </tr>\n",
       "    <tr>\n",
       "      <th>9</th>\n",
       "      <td>27</td>\n",
       "      <td>1.775862</td>\n",
       "    </tr>\n",
       "  </tbody>\n",
       "</table>\n",
       "</div>"
      ],
      "text/plain": [
       "   age  avg_items\n",
       "0   18   1.736705\n",
       "1   19   1.706020\n",
       "2   20   1.723256\n",
       "3   21   1.714768\n",
       "4   22   1.825357\n",
       "5   23   1.780131\n",
       "6   24   1.722222\n",
       "7   25   1.837450\n",
       "8   26   1.696254\n",
       "9   27   1.775862"
      ]
     },
     "execution_count": 38,
     "metadata": {},
     "output_type": "execute_result"
    }
   ],
   "source": [
    "avg_art = pd.pivot_table(trans_total_sess, index=['age'],\n",
    "                         values=['items'], \n",
    "                         aggfunc={'items':'mean'})\n",
    "avg_art = avg_art.rename(columns={'items':'avg_items'})\n",
    "avg_art = avg_art.rename_axis(None, axis=1)\n",
    "avg_art.reset_index(inplace=True)\n",
    "avg_art.head(10)"
   ]
  },
  {
   "cell_type": "code",
   "execution_count": 39,
   "metadata": {},
   "outputs": [
    {
     "data": {
      "image/png": "[encoded data removed]",
      "text/plain": [
       "<Figure size 432x288 with 1 Axes>"
      ]
     },
     "metadata": {
      "needs_background": "light"
     },
     "output_type": "display_data"
    }
   ],
   "source": [
    "plt.plot(avg_art[\"age\"],avg_art[\"avg_items\"], 'o', alpha=0.5)\n",
    "plt.xlabel(\"age\")\n",
    "plt.ylabel(\"Panier moyen (nombre d'articles)\")\n",
    "plt.savefig('tail_avg_age.png')\n",
    "plt.show()"
   ]
  },
  {
   "cell_type": "code",
   "execution_count": 40,
   "metadata": {},
   "outputs": [
    {
     "name": "stdout",
     "output_type": "stream",
     "text": [
      "intercept = 2.346400480162643\n",
      "coef. = [-0.01080937]\n",
      "R^2 = 0.34873340345840664\n"
     ]
    }
   ],
   "source": [
    "X2 = avg_art[[\"age\"]]\n",
    "y2 = avg_art[\"avg_items\"]\n",
    "reg2 = linear_model.LinearRegression().fit(X2, y2)\n",
    "print('intercept = {}'.format(reg2.intercept_))\n",
    "print('coef. = {}'.format(reg2.coef_))\n",
    "print('R^2 = {}'.format(reg2.score(X2, y2)))"
   ]
  },
  {
   "cell_type": "code",
   "execution_count": 41,
   "metadata": {},
   "outputs": [
    {
     "data": {
      "image/png": "[encoded data removed]",
      "text/plain": [
       "<Figure size 432x288 with 1 Axes>"
      ]
     },
     "metadata": {
      "needs_background": "light"
     },
     "output_type": "display_data"
    }
   ],
   "source": [
    "plt.plot(avg_art[\"age\"],avg_art[\"avg_items\"], 'o', alpha=0.5)\n",
    "plt.plot(range(18, 92),[reg2.coef_*x+reg2.intercept_ for x in range(18, 92)])\n",
    "plt.xlabel(\"age\")\n",
    "plt.ylabel(\"Panier moyen (nombre d'articles)\")\n",
    "plt.savefig('tail_age_reg.png')\n",
    "plt.show()"
   ]
  },
  {
   "cell_type": "code",
   "execution_count": 42,
   "metadata": {},
   "outputs": [
    {
     "data": {
      "text/html": [
       "<div>\n",
       "<style scoped>\n",
       "    .dataframe tbody tr th:only-of-type {\n",
       "        vertical-align: middle;\n",
       "    }\n",
       "\n",
       "    .dataframe tbody tr th {\n",
       "        vertical-align: top;\n",
       "    }\n",
       "\n",
       "    .dataframe thead tr th {\n",
       "        text-align: left;\n",
       "    }\n",
       "</style>\n",
       "<table border=\"1\" class=\"dataframe\">\n",
       "  <thead>\n",
       "    <tr>\n",
       "      <th></th>\n",
       "      <th>client_id</th>\n",
       "      <th>age</th>\n",
       "      <th colspan=\"13\" halign=\"left\">sess_count</th>\n",
       "    </tr>\n",
       "    <tr>\n",
       "      <th>mm</th>\n",
       "      <th></th>\n",
       "      <th></th>\n",
       "      <th>1</th>\n",
       "      <th>2</th>\n",
       "      <th>3</th>\n",
       "      <th>4</th>\n",
       "      <th>5</th>\n",
       "      <th>6</th>\n",
       "      <th>7</th>\n",
       "      <th>8</th>\n",
       "      <th>9</th>\n",
       "      <th>10</th>\n",
       "      <th>11</th>\n",
       "      <th>12</th>\n",
       "      <th>sess_total</th>\n",
       "    </tr>\n",
       "  </thead>\n",
       "  <tbody>\n",
       "    <tr>\n",
       "      <th>0</th>\n",
       "      <td>c_1</td>\n",
       "      <td>67</td>\n",
       "      <td>0.0</td>\n",
       "      <td>1.0</td>\n",
       "      <td>0.0</td>\n",
       "      <td>0.0</td>\n",
       "      <td>0.0</td>\n",
       "      <td>1.0</td>\n",
       "      <td>4.0</td>\n",
       "      <td>1.0</td>\n",
       "      <td>2.0</td>\n",
       "      <td>1.0</td>\n",
       "      <td>2.0</td>\n",
       "      <td>3.0</td>\n",
       "      <td>15</td>\n",
       "    </tr>\n",
       "    <tr>\n",
       "      <th>1</th>\n",
       "      <td>c_10</td>\n",
       "      <td>66</td>\n",
       "      <td>0.0</td>\n",
       "      <td>0.0</td>\n",
       "      <td>1.0</td>\n",
       "      <td>2.0</td>\n",
       "      <td>0.0</td>\n",
       "      <td>1.0</td>\n",
       "      <td>2.0</td>\n",
       "      <td>2.0</td>\n",
       "      <td>4.0</td>\n",
       "      <td>0.0</td>\n",
       "      <td>2.0</td>\n",
       "      <td>2.0</td>\n",
       "      <td>16</td>\n",
       "    </tr>\n",
       "    <tr>\n",
       "      <th>2</th>\n",
       "      <td>c_100</td>\n",
       "      <td>30</td>\n",
       "      <td>0.0</td>\n",
       "      <td>0.0</td>\n",
       "      <td>0.0</td>\n",
       "      <td>1.0</td>\n",
       "      <td>0.0</td>\n",
       "      <td>1.0</td>\n",
       "      <td>0.0</td>\n",
       "      <td>1.0</td>\n",
       "      <td>0.0</td>\n",
       "      <td>0.0</td>\n",
       "      <td>0.0</td>\n",
       "      <td>0.0</td>\n",
       "      <td>3</td>\n",
       "    </tr>\n",
       "    <tr>\n",
       "      <th>3</th>\n",
       "      <td>c_1000</td>\n",
       "      <td>56</td>\n",
       "      <td>3.0</td>\n",
       "      <td>6.0</td>\n",
       "      <td>5.0</td>\n",
       "      <td>1.0</td>\n",
       "      <td>3.0</td>\n",
       "      <td>3.0</td>\n",
       "      <td>2.0</td>\n",
       "      <td>3.0</td>\n",
       "      <td>5.0</td>\n",
       "      <td>2.0</td>\n",
       "      <td>5.0</td>\n",
       "      <td>4.0</td>\n",
       "      <td>42</td>\n",
       "    </tr>\n",
       "    <tr>\n",
       "      <th>4</th>\n",
       "      <td>c_1001</td>\n",
       "      <td>40</td>\n",
       "      <td>0.0</td>\n",
       "      <td>4.0</td>\n",
       "      <td>1.0</td>\n",
       "      <td>2.0</td>\n",
       "      <td>0.0</td>\n",
       "      <td>1.0</td>\n",
       "      <td>0.0</td>\n",
       "      <td>2.0</td>\n",
       "      <td>6.0</td>\n",
       "      <td>3.0</td>\n",
       "      <td>2.0</td>\n",
       "      <td>3.0</td>\n",
       "      <td>24</td>\n",
       "    </tr>\n",
       "    <tr>\n",
       "      <th>5</th>\n",
       "      <td>c_1002</td>\n",
       "      <td>40</td>\n",
       "      <td>0.0</td>\n",
       "      <td>2.0</td>\n",
       "      <td>0.0</td>\n",
       "      <td>1.0</td>\n",
       "      <td>1.0</td>\n",
       "      <td>1.0</td>\n",
       "      <td>0.0</td>\n",
       "      <td>1.0</td>\n",
       "      <td>1.0</td>\n",
       "      <td>2.0</td>\n",
       "      <td>2.0</td>\n",
       "      <td>0.0</td>\n",
       "      <td>11</td>\n",
       "    </tr>\n",
       "    <tr>\n",
       "      <th>6</th>\n",
       "      <td>c_1003</td>\n",
       "      <td>40</td>\n",
       "      <td>2.0</td>\n",
       "      <td>2.0</td>\n",
       "      <td>4.0</td>\n",
       "      <td>1.0</td>\n",
       "      <td>1.0</td>\n",
       "      <td>4.0</td>\n",
       "      <td>1.0</td>\n",
       "      <td>0.0</td>\n",
       "      <td>1.0</td>\n",
       "      <td>4.0</td>\n",
       "      <td>1.0</td>\n",
       "      <td>0.0</td>\n",
       "      <td>21</td>\n",
       "    </tr>\n",
       "    <tr>\n",
       "      <th>7</th>\n",
       "      <td>c_1004</td>\n",
       "      <td>49</td>\n",
       "      <td>1.0</td>\n",
       "      <td>2.0</td>\n",
       "      <td>2.0</td>\n",
       "      <td>2.0</td>\n",
       "      <td>1.0</td>\n",
       "      <td>1.0</td>\n",
       "      <td>1.0</td>\n",
       "      <td>3.0</td>\n",
       "      <td>1.0</td>\n",
       "      <td>3.0</td>\n",
       "      <td>1.0</td>\n",
       "      <td>0.0</td>\n",
       "      <td>18</td>\n",
       "    </tr>\n",
       "    <tr>\n",
       "      <th>8</th>\n",
       "      <td>c_1005</td>\n",
       "      <td>81</td>\n",
       "      <td>2.0</td>\n",
       "      <td>1.0</td>\n",
       "      <td>1.0</td>\n",
       "      <td>1.0</td>\n",
       "      <td>2.0</td>\n",
       "      <td>0.0</td>\n",
       "      <td>0.0</td>\n",
       "      <td>0.0</td>\n",
       "      <td>1.0</td>\n",
       "      <td>1.0</td>\n",
       "      <td>2.0</td>\n",
       "      <td>4.0</td>\n",
       "      <td>15</td>\n",
       "    </tr>\n",
       "    <tr>\n",
       "      <th>9</th>\n",
       "      <td>c_1006</td>\n",
       "      <td>43</td>\n",
       "      <td>6.0</td>\n",
       "      <td>7.0</td>\n",
       "      <td>4.0</td>\n",
       "      <td>8.0</td>\n",
       "      <td>3.0</td>\n",
       "      <td>2.0</td>\n",
       "      <td>8.0</td>\n",
       "      <td>6.0</td>\n",
       "      <td>4.0</td>\n",
       "      <td>7.0</td>\n",
       "      <td>4.0</td>\n",
       "      <td>4.0</td>\n",
       "      <td>63</td>\n",
       "    </tr>\n",
       "  </tbody>\n",
       "</table>\n",
       "</div>"
      ],
      "text/plain": [
       "   client_id age sess_count                                                    \\\n",
       "mm                        1    2    3    4    5    6    7    8    9   10   11   \n",
       "0        c_1  67        0.0  1.0  0.0  0.0  0.0  1.0  4.0  1.0  2.0  1.0  2.0   \n",
       "1       c_10  66        0.0  0.0  1.0  2.0  0.0  1.0  2.0  2.0  4.0  0.0  2.0   \n",
       "2      c_100  30        0.0  0.0  0.0  1.0  0.0  1.0  0.0  1.0  0.0  0.0  0.0   \n",
       "3     c_1000  56        3.0  6.0  5.0  1.0  3.0  3.0  2.0  3.0  5.0  2.0  5.0   \n",
       "4     c_1001  40        0.0  4.0  1.0  2.0  0.0  1.0  0.0  2.0  6.0  3.0  2.0   \n",
       "5     c_1002  40        0.0  2.0  0.0  1.0  1.0  1.0  0.0  1.0  1.0  2.0  2.0   \n",
       "6     c_1003  40        2.0  2.0  4.0  1.0  1.0  4.0  1.0  0.0  1.0  4.0  1.0   \n",
       "7     c_1004  49        1.0  2.0  2.0  2.0  1.0  1.0  1.0  3.0  1.0  3.0  1.0   \n",
       "8     c_1005  81        2.0  1.0  1.0  1.0  2.0  0.0  0.0  0.0  1.0  1.0  2.0   \n",
       "9     c_1006  43        6.0  7.0  4.0  8.0  3.0  2.0  8.0  6.0  4.0  7.0  4.0   \n",
       "\n",
       "                    \n",
       "mm   12 sess_total  \n",
       "0   3.0         15  \n",
       "1   2.0         16  \n",
       "2   0.0          3  \n",
       "3   4.0         42  \n",
       "4   3.0         24  \n",
       "5   0.0         11  \n",
       "6   0.0         21  \n",
       "7   0.0         18  \n",
       "8   4.0         15  \n",
       "9   4.0         63  "
      ]
     },
     "execution_count": 42,
     "metadata": {},
     "output_type": "execute_result"
    }
   ],
   "source": [
    "sess_mm = pd.pivot_table(data, index=['client_id','age'], columns=['mm'],\n",
    "                         values=['session_id'], \n",
    "                         aggfunc={'session_id': lambda x: len(x.unique())},\n",
    "                         margins=True, margins_name=\"sess_total\")\n",
    "sess_mm.reset_index(inplace=True)\n",
    "sess_mm = sess_mm.rename(columns={'session_id':'sess_count'})\n",
    "sess_mm.drop(sess_mm.tail(1).index, inplace=True)\n",
    "sess_mm.fillna(0, inplace=True)\n",
    "sess_mm.head(10)"
   ]
  },
  {
   "cell_type": "code",
   "execution_count": 43,
   "metadata": {},
   "outputs": [
    {
     "data": {
      "text/html": [
       "<div>\n",
       "<style scoped>\n",
       "    .dataframe tbody tr th:only-of-type {\n",
       "        vertical-align: middle;\n",
       "    }\n",
       "\n",
       "    .dataframe tbody tr th {\n",
       "        vertical-align: top;\n",
       "    }\n",
       "\n",
       "    .dataframe thead tr th {\n",
       "        text-align: left;\n",
       "    }\n",
       "</style>\n",
       "<table border=\"1\" class=\"dataframe\">\n",
       "  <thead>\n",
       "    <tr>\n",
       "      <th></th>\n",
       "      <th>client_id</th>\n",
       "      <th>age</th>\n",
       "      <th colspan=\"13\" halign=\"left\">sess_count</th>\n",
       "      <th>avg_mm</th>\n",
       "    </tr>\n",
       "    <tr>\n",
       "      <th>mm</th>\n",
       "      <th></th>\n",
       "      <th></th>\n",
       "      <th>1</th>\n",
       "      <th>2</th>\n",
       "      <th>3</th>\n",
       "      <th>4</th>\n",
       "      <th>5</th>\n",
       "      <th>6</th>\n",
       "      <th>7</th>\n",
       "      <th>8</th>\n",
       "      <th>9</th>\n",
       "      <th>10</th>\n",
       "      <th>11</th>\n",
       "      <th>12</th>\n",
       "      <th>sess_total</th>\n",
       "      <th></th>\n",
       "    </tr>\n",
       "  </thead>\n",
       "  <tbody>\n",
       "    <tr>\n",
       "      <th>0</th>\n",
       "      <td>c_1</td>\n",
       "      <td>67</td>\n",
       "      <td>0.0</td>\n",
       "      <td>1.0</td>\n",
       "      <td>0.0</td>\n",
       "      <td>0.0</td>\n",
       "      <td>0.0</td>\n",
       "      <td>1.0</td>\n",
       "      <td>4.0</td>\n",
       "      <td>1.0</td>\n",
       "      <td>2.0</td>\n",
       "      <td>1.0</td>\n",
       "      <td>2.0</td>\n",
       "      <td>3.0</td>\n",
       "      <td>15</td>\n",
       "      <td>1.250000</td>\n",
       "    </tr>\n",
       "    <tr>\n",
       "      <th>1</th>\n",
       "      <td>c_10</td>\n",
       "      <td>66</td>\n",
       "      <td>0.0</td>\n",
       "      <td>0.0</td>\n",
       "      <td>1.0</td>\n",
       "      <td>2.0</td>\n",
       "      <td>0.0</td>\n",
       "      <td>1.0</td>\n",
       "      <td>2.0</td>\n",
       "      <td>2.0</td>\n",
       "      <td>4.0</td>\n",
       "      <td>0.0</td>\n",
       "      <td>2.0</td>\n",
       "      <td>2.0</td>\n",
       "      <td>16</td>\n",
       "      <td>1.333333</td>\n",
       "    </tr>\n",
       "    <tr>\n",
       "      <th>2</th>\n",
       "      <td>c_100</td>\n",
       "      <td>30</td>\n",
       "      <td>0.0</td>\n",
       "      <td>0.0</td>\n",
       "      <td>0.0</td>\n",
       "      <td>1.0</td>\n",
       "      <td>0.0</td>\n",
       "      <td>1.0</td>\n",
       "      <td>0.0</td>\n",
       "      <td>1.0</td>\n",
       "      <td>0.0</td>\n",
       "      <td>0.0</td>\n",
       "      <td>0.0</td>\n",
       "      <td>0.0</td>\n",
       "      <td>3</td>\n",
       "      <td>0.250000</td>\n",
       "    </tr>\n",
       "    <tr>\n",
       "      <th>3</th>\n",
       "      <td>c_1000</td>\n",
       "      <td>56</td>\n",
       "      <td>3.0</td>\n",
       "      <td>6.0</td>\n",
       "      <td>5.0</td>\n",
       "      <td>1.0</td>\n",
       "      <td>3.0</td>\n",
       "      <td>3.0</td>\n",
       "      <td>2.0</td>\n",
       "      <td>3.0</td>\n",
       "      <td>5.0</td>\n",
       "      <td>2.0</td>\n",
       "      <td>5.0</td>\n",
       "      <td>4.0</td>\n",
       "      <td>42</td>\n",
       "      <td>3.500000</td>\n",
       "    </tr>\n",
       "    <tr>\n",
       "      <th>4</th>\n",
       "      <td>c_1001</td>\n",
       "      <td>40</td>\n",
       "      <td>0.0</td>\n",
       "      <td>4.0</td>\n",
       "      <td>1.0</td>\n",
       "      <td>2.0</td>\n",
       "      <td>0.0</td>\n",
       "      <td>1.0</td>\n",
       "      <td>0.0</td>\n",
       "      <td>2.0</td>\n",
       "      <td>6.0</td>\n",
       "      <td>3.0</td>\n",
       "      <td>2.0</td>\n",
       "      <td>3.0</td>\n",
       "      <td>24</td>\n",
       "      <td>2.000000</td>\n",
       "    </tr>\n",
       "  </tbody>\n",
       "</table>\n",
       "</div>"
      ],
      "text/plain": [
       "   client_id age sess_count                                                    \\\n",
       "mm                        1    2    3    4    5    6    7    8    9   10   11   \n",
       "0        c_1  67        0.0  1.0  0.0  0.0  0.0  1.0  4.0  1.0  2.0  1.0  2.0   \n",
       "1       c_10  66        0.0  0.0  1.0  2.0  0.0  1.0  2.0  2.0  4.0  0.0  2.0   \n",
       "2      c_100  30        0.0  0.0  0.0  1.0  0.0  1.0  0.0  1.0  0.0  0.0  0.0   \n",
       "3     c_1000  56        3.0  6.0  5.0  1.0  3.0  3.0  2.0  3.0  5.0  2.0  5.0   \n",
       "4     c_1001  40        0.0  4.0  1.0  2.0  0.0  1.0  0.0  2.0  6.0  3.0  2.0   \n",
       "\n",
       "                      avg_mm  \n",
       "mm   12 sess_total            \n",
       "0   3.0         15  1.250000  \n",
       "1   2.0         16  1.333333  \n",
       "2   0.0          3  0.250000  \n",
       "3   4.0         42  3.500000  \n",
       "4   3.0         24  2.000000  "
      ]
     },
     "execution_count": 43,
     "metadata": {},
     "output_type": "execute_result"
    }
   ],
   "source": [
    "sess_mm['avg_mm'] = sess_mm['sess_count']['sess_total']/12\n",
    "sess_mm.head()"
   ]
  },
  {
   "cell_type": "code",
   "execution_count": 44,
   "metadata": {},
   "outputs": [
    {
     "data": {
      "image/png": "[encoded data removed]",
      "text/plain": [
       "<Figure size 432x288 with 1 Axes>"
      ]
     },
     "metadata": {
      "needs_background": "light"
     },
     "output_type": "display_data"
    }
   ],
   "source": [
    "plt.plot(sess_mm['age'],sess_mm['avg_mm'], 'o', alpha=0.5)\n",
    "plt.xlabel(\"age\")\n",
    "plt.ylabel(\"freq. d'achats moyenne par mois\")\n",
    "plt.savefig('freq_age.png')\n",
    "plt.show()"
   ]
  },
  {
   "cell_type": "code",
   "execution_count": 45,
   "metadata": {},
   "outputs": [
    {
     "data": {
      "text/html": [
       "<div>\n",
       "<style scoped>\n",
       "    .dataframe tbody tr th:only-of-type {\n",
       "        vertical-align: middle;\n",
       "    }\n",
       "\n",
       "    .dataframe tbody tr th {\n",
       "        vertical-align: top;\n",
       "    }\n",
       "\n",
       "    .dataframe thead th {\n",
       "        text-align: right;\n",
       "    }\n",
       "</style>\n",
       "<table border=\"1\" class=\"dataframe\">\n",
       "  <thead>\n",
       "    <tr style=\"text-align: right;\">\n",
       "      <th></th>\n",
       "      <th>age</th>\n",
       "      <th>client_count</th>\n",
       "      <th>sess_count</th>\n",
       "    </tr>\n",
       "  </thead>\n",
       "  <tbody>\n",
       "    <tr>\n",
       "      <th>0</th>\n",
       "      <td>18</td>\n",
       "      <td>437</td>\n",
       "      <td>4182</td>\n",
       "    </tr>\n",
       "    <tr>\n",
       "      <th>1</th>\n",
       "      <td>19</td>\n",
       "      <td>145</td>\n",
       "      <td>1265</td>\n",
       "    </tr>\n",
       "    <tr>\n",
       "      <th>2</th>\n",
       "      <td>20</td>\n",
       "      <td>145</td>\n",
       "      <td>1276</td>\n",
       "    </tr>\n",
       "    <tr>\n",
       "      <th>3</th>\n",
       "      <td>21</td>\n",
       "      <td>125</td>\n",
       "      <td>1173</td>\n",
       "    </tr>\n",
       "    <tr>\n",
       "      <th>4</th>\n",
       "      <td>22</td>\n",
       "      <td>136</td>\n",
       "      <td>1180</td>\n",
       "    </tr>\n",
       "    <tr>\n",
       "      <th>5</th>\n",
       "      <td>23</td>\n",
       "      <td>158</td>\n",
       "      <td>1360</td>\n",
       "    </tr>\n",
       "    <tr>\n",
       "      <th>6</th>\n",
       "      <td>24</td>\n",
       "      <td>137</td>\n",
       "      <td>1355</td>\n",
       "    </tr>\n",
       "    <tr>\n",
       "      <th>7</th>\n",
       "      <td>25</td>\n",
       "      <td>151</td>\n",
       "      <td>1241</td>\n",
       "    </tr>\n",
       "    <tr>\n",
       "      <th>8</th>\n",
       "      <td>26</td>\n",
       "      <td>179</td>\n",
       "      <td>1717</td>\n",
       "    </tr>\n",
       "    <tr>\n",
       "      <th>9</th>\n",
       "      <td>27</td>\n",
       "      <td>175</td>\n",
       "      <td>1554</td>\n",
       "    </tr>\n",
       "  </tbody>\n",
       "</table>\n",
       "</div>"
      ],
      "text/plain": [
       "   age  client_count  sess_count\n",
       "0   18           437        4182\n",
       "1   19           145        1265\n",
       "2   20           145        1276\n",
       "3   21           125        1173\n",
       "4   22           136        1180\n",
       "5   23           158        1360\n",
       "6   24           137        1355\n",
       "7   25           151        1241\n",
       "8   26           179        1717\n",
       "9   27           175        1554"
      ]
     },
     "execution_count": 45,
     "metadata": {},
     "output_type": "execute_result"
    }
   ],
   "source": [
    "sess_mm_age = pd.pivot_table(data, index=['age'],\n",
    "                         values=['session_id', 'client_id'], \n",
    "                         aggfunc={'session_id': lambda x: len(x.unique()), 'client_id': lambda y: len(y.unique())}\n",
    "                         )\n",
    "sess_mm_age.reset_index(inplace=True)\n",
    "sess_mm_age = sess_mm_age.rename(columns={'session_id':'sess_count', 'client_id':'client_count'})\n",
    "sess_mm_age.head(10)"
   ]
  },
  {
   "cell_type": "code",
   "execution_count": 46,
   "metadata": {},
   "outputs": [
    {
     "data": {
      "text/html": [
       "<div>\n",
       "<style scoped>\n",
       "    .dataframe tbody tr th:only-of-type {\n",
       "        vertical-align: middle;\n",
       "    }\n",
       "\n",
       "    .dataframe tbody tr th {\n",
       "        vertical-align: top;\n",
       "    }\n",
       "\n",
       "    .dataframe thead th {\n",
       "        text-align: right;\n",
       "    }\n",
       "</style>\n",
       "<table border=\"1\" class=\"dataframe\">\n",
       "  <thead>\n",
       "    <tr style=\"text-align: right;\">\n",
       "      <th></th>\n",
       "      <th>age</th>\n",
       "      <th>client_count</th>\n",
       "      <th>sess_count</th>\n",
       "      <th>sess_client_mm</th>\n",
       "    </tr>\n",
       "  </thead>\n",
       "  <tbody>\n",
       "    <tr>\n",
       "      <th>0</th>\n",
       "      <td>18</td>\n",
       "      <td>437</td>\n",
       "      <td>4182</td>\n",
       "      <td>0.797483</td>\n",
       "    </tr>\n",
       "    <tr>\n",
       "      <th>1</th>\n",
       "      <td>19</td>\n",
       "      <td>145</td>\n",
       "      <td>1265</td>\n",
       "      <td>0.727011</td>\n",
       "    </tr>\n",
       "    <tr>\n",
       "      <th>2</th>\n",
       "      <td>20</td>\n",
       "      <td>145</td>\n",
       "      <td>1276</td>\n",
       "      <td>0.733333</td>\n",
       "    </tr>\n",
       "    <tr>\n",
       "      <th>3</th>\n",
       "      <td>21</td>\n",
       "      <td>125</td>\n",
       "      <td>1173</td>\n",
       "      <td>0.782000</td>\n",
       "    </tr>\n",
       "    <tr>\n",
       "      <th>4</th>\n",
       "      <td>22</td>\n",
       "      <td>136</td>\n",
       "      <td>1180</td>\n",
       "      <td>0.723039</td>\n",
       "    </tr>\n",
       "    <tr>\n",
       "      <th>5</th>\n",
       "      <td>23</td>\n",
       "      <td>158</td>\n",
       "      <td>1360</td>\n",
       "      <td>0.717300</td>\n",
       "    </tr>\n",
       "    <tr>\n",
       "      <th>6</th>\n",
       "      <td>24</td>\n",
       "      <td>137</td>\n",
       "      <td>1355</td>\n",
       "      <td>0.824209</td>\n",
       "    </tr>\n",
       "    <tr>\n",
       "      <th>7</th>\n",
       "      <td>25</td>\n",
       "      <td>151</td>\n",
       "      <td>1241</td>\n",
       "      <td>0.684879</td>\n",
       "    </tr>\n",
       "    <tr>\n",
       "      <th>8</th>\n",
       "      <td>26</td>\n",
       "      <td>179</td>\n",
       "      <td>1717</td>\n",
       "      <td>0.799348</td>\n",
       "    </tr>\n",
       "    <tr>\n",
       "      <th>9</th>\n",
       "      <td>27</td>\n",
       "      <td>175</td>\n",
       "      <td>1554</td>\n",
       "      <td>0.740000</td>\n",
       "    </tr>\n",
       "  </tbody>\n",
       "</table>\n",
       "</div>"
      ],
      "text/plain": [
       "   age  client_count  sess_count  sess_client_mm\n",
       "0   18           437        4182        0.797483\n",
       "1   19           145        1265        0.727011\n",
       "2   20           145        1276        0.733333\n",
       "3   21           125        1173        0.782000\n",
       "4   22           136        1180        0.723039\n",
       "5   23           158        1360        0.717300\n",
       "6   24           137        1355        0.824209\n",
       "7   25           151        1241        0.684879\n",
       "8   26           179        1717        0.799348\n",
       "9   27           175        1554        0.740000"
      ]
     },
     "execution_count": 46,
     "metadata": {},
     "output_type": "execute_result"
    }
   ],
   "source": [
    "sess_mm_age['sess_client_mm'] = (sess_mm_age['sess_count']/12)/sess_mm_age['client_count']\n",
    "sess_mm_age.head(10)"
   ]
  },
  {
   "cell_type": "code",
   "execution_count": 47,
   "metadata": {},
   "outputs": [
    {
     "data": {
      "image/png": "[encoded data removed]",
      "text/plain": [
       "<Figure size 432x288 with 1 Axes>"
      ]
     },
     "metadata": {
      "needs_background": "light"
     },
     "output_type": "display_data"
    }
   ],
   "source": [
    "plt.plot(sess_mm_age['age'],sess_mm_age['sess_client_mm'], 'o', alpha=0.5)\n",
    "plt.xlabel(\"age\")\n",
    "plt.ylabel(\"freq. d'achats moyenne par mois\")\n",
    "plt.savefig('freq_avg_age.png')\n",
    "plt.show()"
   ]
  },
  {
   "cell_type": "code",
   "execution_count": 48,
   "metadata": {},
   "outputs": [
    {
     "name": "stdout",
     "output_type": "stream",
     "text": [
      "intercept = 1.324997599492638\n",
      "coef. = [0.00353001]\n",
      "R^2 = 0.03125060570014104\n"
     ]
    }
   ],
   "source": [
    "X3 = sess_mm_age[[\"age\"]]\n",
    "y3 = sess_mm_age['sess_client_mm']\n",
    "reg3 = linear_model.LinearRegression().fit(X3, y3)\n",
    "print('intercept = {}'.format(reg3.intercept_))\n",
    "print('coef. = {}'.format(reg3.coef_))\n",
    "print('R^2 = {}'.format(reg3.score(X3, y3)))"
   ]
  },
  {
   "cell_type": "code",
   "execution_count": 49,
   "metadata": {},
   "outputs": [
    {
     "data": {
      "image/png": "[encoded data removed]",
      "text/plain": [
       "<Figure size 432x288 with 1 Axes>"
      ]
     },
     "metadata": {
      "needs_background": "light"
     },
     "output_type": "display_data"
    }
   ],
   "source": [
    "plt.plot(sess_mm_age['age'],sess_mm_age['sess_client_mm'], 'o', alpha=0.5)\n",
    "plt.plot(range(18, 92),[reg3.coef_*x+reg3.intercept_ for x in range(18, 92)])\n",
    "plt.xlabel(\"age\")\n",
    "plt.ylabel(\"freq. d'achats moyenne par mois\")\n",
    "plt.savefig('freq_age_reg.png')\n",
    "plt.show()"
   ]
  },
  {
   "cell_type": "code",
   "execution_count": 50,
   "metadata": {},
   "outputs": [
    {
     "name": "stdout",
     "output_type": "stream",
     "text": [
      "intercept = 2.425457649516432\n",
      "coef. = [-0.01203044]\n",
      "R^2 = 0.5694630261854043\n"
     ]
    }
   ],
   "source": [
    "sess_mm_age30 = sess_mm_age[sess_mm_age['age']>30]\n",
    "X4 = sess_mm_age30[[\"age\"]]\n",
    "y4 = sess_mm_age30['sess_client_mm']\n",
    "reg4 = linear_model.LinearRegression().fit(X4, y4)\n",
    "print('intercept = {}'.format(reg4.intercept_))\n",
    "print('coef. = {}'.format(reg4.coef_))\n",
    "print('R^2 = {}'.format(reg4.score(X4, y4)))"
   ]
  },
  {
   "cell_type": "code",
   "execution_count": 51,
   "metadata": {},
   "outputs": [
    {
     "data": {
      "image/png": "[encoded data removed]",
      "text/plain": [
       "<Figure size 432x288 with 1 Axes>"
      ]
     },
     "metadata": {
      "needs_background": "light"
     },
     "output_type": "display_data"
    }
   ],
   "source": [
    "plt.plot(sess_mm_age['age'],sess_mm_age['sess_client_mm'], 'o', alpha=0.5)\n",
    "plt.plot(range(18, 92),[reg3.coef_*x+reg3.intercept_ for x in range(18, 92)])\n",
    "plt.plot(range(30, 92),[reg4.coef_*x+reg4.intercept_ for x in range(30, 92)])\n",
    "plt.xlabel(\"age\")\n",
    "plt.ylabel(\"freq. d'achats moyenne par mois\")\n",
    "plt.savefig('freq_age_reg30.png')\n",
    "plt.show()"
   ]
  },
  {
   "cell_type": "code",
   "execution_count": 52,
   "metadata": {},
   "outputs": [
    {
     "data": {
      "image/png": "[encoded data removed]",
      "text/plain": [
       "<Figure size 432x288 with 1 Axes>"
      ]
     },
     "metadata": {
      "needs_background": "light"
     },
     "output_type": "display_data"
    }
   ],
   "source": [
    "box_cat_age = sns.boxplot(x='categ', y='age', data=data, showmeans=True)\n",
    "plt.xlabel('Categorie')\n",
    "plt.ylabel('Age')\n",
    "plt.title('Boîte à moustaches Categorie et Age')\n",
    "plt.savefig('boxplot_cat_age');"
   ]
  },
  {
   "cell_type": "code",
   "execution_count": 53,
   "metadata": {},
   "outputs": [
    {
     "data": {
      "text/plain": [
       "0.11281696159855092"
      ]
     },
     "execution_count": 53,
     "metadata": {},
     "output_type": "execute_result"
    }
   ],
   "source": [
    "X = \"categ\" # qualitative\n",
    "Y = \"age\" # quantitative\n",
    "\n",
    "def eta_squared(x,y):\n",
    "    moyenne_y = y.mean()\n",
    "    classes = []\n",
    "    for classe in x.unique():\n",
    "        yi_classe = y[x==classe]\n",
    "        classes.append({'ni': len(yi_classe),\n",
    "                        'moyenne_classe': yi_classe.mean()})\n",
    "    SCT = sum([(yj-moyenne_y)**2 for yj in y])\n",
    "    SCE = sum([c['ni']*(c['moyenne_classe']-moyenne_y)**2 for c in classes])\n",
    "    return SCE/SCT\n",
    "    \n",
    "eta_squared(data[X],data[Y])"
   ]
  }
 ],
 "metadata": {
  "kernelspec": {
   "display_name": "Python 3 (ipykernel)",
   "language": "python",
   "name": "python3"
  },
  "language_info": {
   "codemirror_mode": {
    "name": "ipython",
    "version": 3
   },
   "file_extension": ".py",
   "mimetype": "text/x-python",
   "name": "python",
   "nbconvert_exporter": "python",
   "pygments_lexer": "ipython3",
   "version": "3.9.7"
  }
 },
 "nbformat": 4,
 "nbformat_minor": 4
}
